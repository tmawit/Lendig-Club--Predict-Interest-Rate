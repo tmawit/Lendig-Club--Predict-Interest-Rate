{
 "cells": [
  {
   "cell_type": "markdown",
   "id": "ee51a8ca",
   "metadata": {},
   "source": [
    "# Lending Club Predict Interest Rates\n"
   ]
  },
  {
   "cell_type": "markdown",
   "id": "faaa70fe",
   "metadata": {},
   "source": [
    "## Preprocessing and Training Data Development"
   ]
  },
  {
   "cell_type": "markdown",
   "id": "f4fd3778",
   "metadata": {},
   "source": [
    "Preprocessing plays a crucial role in preparing data for fitting a regression model. It involves transforming and \n",
    "manipulating the data to ensure it is in a suitable format and meets the requirements of the regression algorithm. \n",
    "We will take the following preprocessing steps for our regression modeling:\n",
    "    \n",
    "1. Feature scaling: Scale numerical features to ensure they are on a similar scale.\n",
    "    Scaling can prevent certain features from dominating the regression model due to their larger magnitude.\n",
    "\n",
    "2. Encoding categorical variables: we will convert categorical variables into a numerical representation that can be \n",
    "    understood by the regression model. We will us one-hot encoding technique to create binary dummy variables.\n",
    "    label encoding (assigning numerical labels), or using entity embeddings for high-cardinality categorical variables.\n",
    "\n",
    "3. Feature selection: we will identify the most relevant features that have a strong relationship with the target variable. \n",
    "  Feature selection techniques, such as correlation analysis, stepwise regression, or regularization methods \n",
    "    like Lasso or Ridge regression, can help in selecting the most informative features and removing irrelevant \n",
    "    or redundant ones.\n",
    "4. Splitting the data: lastly, we will divide the dataset into training and test sets. The training set is used to \n",
    "    train the regression model, while the test set is used to evaluate its performance on unseen data. \n",
    "    This step helps assess the model's generalization ability."
   ]
  },
  {
   "cell_type": "code",
   "execution_count": 1,
   "id": "aa04c585",
   "metadata": {},
   "outputs": [],
   "source": [
    "import pandas as pd\n",
    "import numpy as np\n",
    "\n",
    "import matplotlib.pyplot as plt\n",
    "%matplotlib inline\n",
    "from sklearn.model_selection import train_test_split\n",
    "from sklearn.metrics import mean_absolute_error\n",
    "from sklearn.linear_model import Ridge\n",
    "\n",
    "from sklearn.preprocessing import OneHotEncoder, OrdinalEncoder\n",
    "from sklearn.impute import SimpleImputer\n",
    "\n",
    "\n",
    "import seaborn as sns\n",
    "from sklearn.decomposition import PCA\n",
    "from sklearn.preprocessing import StandardScaler\n",
    "\n",
    "\n",
    "from sklearn.model_selection import cross_val_score, validation_curve\n",
    "from sklearn.model_selection import GridSearchCV, RandomizedSearchCV\n",
    "from sklearn.ensemble import RandomForestRegressor\n",
    "from xgboost import XGBRegressor\n",
    "\n",
    "\n",
    "from sklearn import preprocessing\n",
    "import scipy.stats as stats\n",
    "\n",
    "\n"
   ]
  },
  {
   "cell_type": "code",
   "execution_count": 2,
   "id": "eea20189",
   "metadata": {},
   "outputs": [],
   "source": [
    "#load the data\n",
    "loan_df = pd.read_csv('../lc_loanDf.csv')"
   ]
  },
  {
   "cell_type": "code",
   "execution_count": 3,
   "id": "3663e390",
   "metadata": {},
   "outputs": [
    {
     "data": {
      "text/plain": [
       "(817103, 53)"
      ]
     },
     "execution_count": 3,
     "metadata": {},
     "output_type": "execute_result"
    }
   ],
   "source": [
    "loan_df.shape"
   ]
  },
  {
   "cell_type": "code",
   "execution_count": 4,
   "id": "868837af",
   "metadata": {},
   "outputs": [
    {
     "name": "stdout",
     "output_type": "stream",
     "text": [
      "<class 'pandas.core.frame.DataFrame'>\n",
      "RangeIndex: 817103 entries, 0 to 817102\n",
      "Data columns (total 53 columns):\n",
      " #   Column                       Non-Null Count   Dtype  \n",
      "---  ------                       --------------   -----  \n",
      " 0   id                           817103 non-null  int64  \n",
      " 1   loan_amnt                    817103 non-null  float64\n",
      " 2   funded_amnt                  817103 non-null  float64\n",
      " 3   funded_amnt_inv              817103 non-null  float64\n",
      " 4   term                         817103 non-null  object \n",
      " 5   int_rate                     817103 non-null  float64\n",
      " 6   installment                  817103 non-null  float64\n",
      " 7   grade                        817103 non-null  object \n",
      " 8   sub_grade                    817103 non-null  object \n",
      " 9   emp_title                    817103 non-null  object \n",
      " 10  emp_length                   817103 non-null  int64  \n",
      " 11  home_ownership               817103 non-null  object \n",
      " 12  annual_inc                   817103 non-null  float64\n",
      " 13  verification_status          817103 non-null  object \n",
      " 14  issue_d                      817103 non-null  object \n",
      " 15  loan_status                  817103 non-null  object \n",
      " 16  pymnt_plan                   817103 non-null  object \n",
      " 17  url                          817103 non-null  object \n",
      " 18  purpose                      817103 non-null  object \n",
      " 19  title                        817103 non-null  object \n",
      " 20  zip_code                     817103 non-null  object \n",
      " 21  addr_state                   817103 non-null  object \n",
      " 22  dti                          817103 non-null  float64\n",
      " 23  delinq_2yrs                  817103 non-null  float64\n",
      " 24  earliest_cr_line             817103 non-null  object \n",
      " 25  inq_last_6mths               817103 non-null  float64\n",
      " 26  mths_since_last_delinq       817103 non-null  int64  \n",
      " 27  open_acc                     817103 non-null  float64\n",
      " 28  pub_rec                      817103 non-null  float64\n",
      " 29  revol_bal                    817103 non-null  float64\n",
      " 30  revol_util                   817103 non-null  float64\n",
      " 31  total_acc                    817103 non-null  float64\n",
      " 32  initial_list_status          817103 non-null  object \n",
      " 33  out_prncp                    817103 non-null  float64\n",
      " 34  out_prncp_inv                817103 non-null  float64\n",
      " 35  total_pymnt                  817103 non-null  float64\n",
      " 36  total_pymnt_inv              817103 non-null  float64\n",
      " 37  total_rec_prncp              817103 non-null  float64\n",
      " 38  total_rec_int                817103 non-null  float64\n",
      " 39  total_rec_late_fee           817103 non-null  float64\n",
      " 40  recoveries                   817103 non-null  float64\n",
      " 41  collection_recovery_fee      817103 non-null  float64\n",
      " 42  last_pymnt_d                 817103 non-null  object \n",
      " 43  last_pymnt_amnt              817103 non-null  float64\n",
      " 44  last_credit_pull_d           817103 non-null  object \n",
      " 45  collections_12_mths_ex_med   817103 non-null  float64\n",
      " 46  mths_since_last_major_derog  817103 non-null  float64\n",
      " 47  application_type             817103 non-null  object \n",
      " 48  acc_now_delinq               817103 non-null  float64\n",
      " 49  tot_coll_amt                 817103 non-null  float64\n",
      " 50  tot_cur_bal                  817103 non-null  float64\n",
      " 51  total_rev_hi_lim             817103 non-null  float64\n",
      " 52  term_in_month                817103 non-null  int64  \n",
      "dtypes: float64(30), int64(4), object(19)\n",
      "memory usage: 330.4+ MB\n"
     ]
    }
   ],
   "source": [
    "loan_df.info()"
   ]
  },
  {
   "cell_type": "markdown",
   "id": "7e5ebd28",
   "metadata": {},
   "source": [
    "To determine which columns are relevant for predicting interest rate, we used domain knowledge. \n",
    "Here is the general analysis of the columns and  their potential relevance for predicting interest rates:\n",
    "\n",
    "    'int_rate': This column represents the target variable, the interest rate. It is the variable you want to predict, and therefore, it is directly relevant to the prediction task.\n",
    "\n",
    "    'loan_amnt': The loan amount can potentially have an impact on the interest rate. Higher loan amounts might be associated with higher interest rates due to increased risk. Therefore, 'loan_amnt' can be considered relevant for predicting interest rates.\n",
    "\n",
    "    'annual_inc': Borrower's annual income is an important factor that lenders consider when determining interest rates. Higher incomes may indicate a borrower's ability to handle debt, and lower incomes may result in higher interest rates. Therefore, 'annual_inc' can be relevant for predicting interest rates.\n",
    "\n",
    "    'mths_since_last_delinq': This column represents the number of months since the borrower's last delinquency. Delinquencies may affect creditworthiness, which can impact interest rates. Therefore, 'mths_since_last_delinq' can potentially be relevant in predicting interest rates.\n",
    "\n",
    "    'revol_bal' and 'revol_util': These columns are related to the borrower's revolving credit balance and utilization. Higher revolving balances and higher utilization may indicate a higher risk for lenders, potentially leading to higher interest rates. Thus, 'revol_bal' and 'revol_util' can be relevant features for predicting interest rates.\n",
    "\n",
    "    'tot_coll_amt' and 'tot_cur_bal': These columns represent the total collection amount and the total current balance, respectively. These variables provide information about the borrower's credit history and their current financial situation. Both variables can be relevant for predicting interest rates as they reflect creditworthiness and financial stability.\n",
    "\n",
    "    'total_rev_hi_lim': This column represents the total revolving credit limit. It provides information about the borrower's available credit and potential debt capacity. Higher credit limits might suggest a better credit profile, which can influence interest rates. Thus, 'total_rev_hi_lim' can be relevant in predicting interest rates.\n",
    "\n",
    "    'term_in_month': This column indicates the loan term in months. Loan terms can affect interest rates, as longer terms may carry higher risks and potentially higher interest rates. Therefore, 'term_in_month' can be relevant for predicting interest rates.\n",
    "    'empl length':The length of employment can be an indicator of job stability. Lenders may consider borrowers with longer employment histories as more financially secure and reliable, potentially resulting in lower interest rates. Conversely, borrowers with shorter employment histories may be perceived as higher risk, leading to higher interest rates.\n",
    "\n"
   ]
  },
  {
   "cell_type": "code",
   "execution_count": 5,
   "id": "ccc9abf4",
   "metadata": {},
   "outputs": [],
   "source": [
    "relevant_cols=['int_rate','loan_amnt','annual_inc','mths_since_last_delinq','revol_bal', 'revol_util',\n",
    "               'tot_coll_amt','tot_cur_bal','total_rev_hi_lim','term_in_month', 'emp_length']"
   ]
  },
  {
   "cell_type": "code",
   "execution_count": 6,
   "id": "b9874169",
   "metadata": {},
   "outputs": [],
   "source": [
    "loan_Df=loan_df[relevant_cols]"
   ]
  },
  {
   "cell_type": "code",
   "execution_count": 7,
   "id": "0068ed64",
   "metadata": {},
   "outputs": [
    {
     "data": {
      "text/plain": [
       "(817103, 11)"
      ]
     },
     "execution_count": 7,
     "metadata": {},
     "output_type": "execute_result"
    }
   ],
   "source": [
    "loan_Df.shape"
   ]
  },
  {
   "cell_type": "code",
   "execution_count": 8,
   "id": "245749a2",
   "metadata": {},
   "outputs": [
    {
     "name": "stdout",
     "output_type": "stream",
     "text": [
      "<class 'pandas.core.frame.DataFrame'>\n",
      "RangeIndex: 817103 entries, 0 to 817102\n",
      "Data columns (total 11 columns):\n",
      " #   Column                  Non-Null Count   Dtype  \n",
      "---  ------                  --------------   -----  \n",
      " 0   int_rate                817103 non-null  float64\n",
      " 1   loan_amnt               817103 non-null  float64\n",
      " 2   annual_inc              817103 non-null  float64\n",
      " 3   mths_since_last_delinq  817103 non-null  int64  \n",
      " 4   revol_bal               817103 non-null  float64\n",
      " 5   revol_util              817103 non-null  float64\n",
      " 6   tot_coll_amt            817103 non-null  float64\n",
      " 7   tot_cur_bal             817103 non-null  float64\n",
      " 8   total_rev_hi_lim        817103 non-null  float64\n",
      " 9   term_in_month           817103 non-null  int64  \n",
      " 10  emp_length              817103 non-null  int64  \n",
      "dtypes: float64(8), int64(3)\n",
      "memory usage: 68.6 MB\n"
     ]
    }
   ],
   "source": [
    "loan_Df.info()"
   ]
  },
  {
   "cell_type": "markdown",
   "id": "b0508054",
   "metadata": {},
   "source": [
    "# Split data into training and testing subsets"
   ]
  },
  {
   "cell_type": "code",
   "execution_count": 9,
   "id": "f6d72e0a",
   "metadata": {},
   "outputs": [],
   "source": [
    "from sklearn.model_selection import train_test_split\n",
    "\n",
    "# Define the features and target variable\n",
    "X = loan_Df.drop('int_rate', axis=1) # all columns except the target\n",
    "y = loan_Df['int_rate'] # target variable\n",
    "\n",
    "# Split the dataset into training and testing sets\n",
    "X_train, X_test, y_train, y_test = train_test_split(X, y, test_size=0.25, random_state=42)"
   ]
  },
  {
   "cell_type": "markdown",
   "id": "7fa0f05d",
   "metadata": {},
   "source": [
    "# Modeling"
   ]
  },
  {
   "cell_type": "code",
   "execution_count": 10,
   "id": "3ae732cc",
   "metadata": {},
   "outputs": [],
   "source": [
    "#create three separate regression models: ridge_model, rf_model, and xgbr_model\n",
    "\n",
    "ridge_model=Ridge(alpha=1.0, random_state=1)\n",
    "\n",
    "rf_model=RandomForestRegressor()\n",
    "\n",
    "xgbr_model=XGBRegressor()"
   ]
  },
  {
   "cell_type": "code",
   "execution_count": 11,
   "id": "0a577dfe",
   "metadata": {},
   "outputs": [
    {
     "data": {
      "text/plain": [
       "XGBRegressor(base_score=None, booster=None, callbacks=None,\n",
       "             colsample_bylevel=None, colsample_bynode=None,\n",
       "             colsample_bytree=None, early_stopping_rounds=None,\n",
       "             enable_categorical=False, eval_metric=None, feature_types=None,\n",
       "             gamma=None, gpu_id=None, grow_policy=None, importance_type=None,\n",
       "             interaction_constraints=None, learning_rate=None, max_bin=None,\n",
       "             max_cat_threshold=None, max_cat_to_onehot=None,\n",
       "             max_delta_step=None, max_depth=None, max_leaves=None,\n",
       "             min_child_weight=None, missing=nan, monotone_constraints=None,\n",
       "             n_estimators=100, n_jobs=None, num_parallel_tree=None,\n",
       "             predictor=None, random_state=None, ...)"
      ]
     },
     "execution_count": 11,
     "metadata": {},
     "output_type": "execute_result"
    }
   ],
   "source": [
    "#fit the three regression models\n",
    "\n",
    "ridge_model.fit(X_train, y_train)\n",
    "\n",
    "rf_model.fit(X_train, y_train)\n",
    "\n",
    "xgbr_model.fit(X_train, y_train)"
   ]
  },
  {
   "cell_type": "code",
   "execution_count": null,
   "id": "3bab31d3",
   "metadata": {},
   "outputs": [],
   "source": [
    "#print('Mean absolut error:', mean_absolute_error(y_train, rf_model.predict(X_train)))"
   ]
  },
  {
   "cell_type": "code",
   "execution_count": 12,
   "id": "0291c0bd",
   "metadata": {},
   "outputs": [
    {
     "name": "stdout",
     "output_type": "stream",
     "text": [
      "╒═══════════════╤═════════╤═════════╤══════════╕\n",
      "│ Model         │     MSE │     MAE │      R^2 │\n",
      "╞═══════════════╪═════════╪═════════╪══════════╡\n",
      "│ Ridge         │ 14.2689 │ 2.99902 │ 0.265462 │\n",
      "├───────────────┼─────────┼─────────┼──────────┤\n",
      "│ Random Forest │ 12.2698 │ 2.77889 │ 0.368373 │\n",
      "├───────────────┼─────────┼─────────┼──────────┤\n",
      "│ XGBoost       │ 11.3792 │ 2.66945 │ 0.414218 │\n",
      "╘═══════════════╧═════════╧═════════╧══════════╛\n"
     ]
    }
   ],
   "source": [
    "from tabulate import tabulate\n",
    "from sklearn.metrics import mean_squared_error, mean_absolute_error, r2_score\n",
    "\n",
    "\n",
    "# Predict on the test set\n",
    "ridge_pred = ridge_model.predict(X_test)\n",
    "rf_pred = rf_model.predict(X_test)\n",
    "xgbr_pred = xgbr_model.predict(X_test)\n",
    "\n",
    "# Calculate metrics for each model\n",
    "ridge_mse = mean_squared_error(y_test, ridge_pred)\n",
    "ridge_mae = mean_absolute_error(y_test, ridge_pred)\n",
    "ridge_r2 = r2_score(y_test, ridge_pred)\n",
    "\n",
    "rf_mse = mean_squared_error(y_test, rf_pred)\n",
    "rf_mae = mean_absolute_error(y_test, rf_pred)\n",
    "rf_r2 = r2_score(y_test, rf_pred)\n",
    "\n",
    "xgbr_mse = mean_squared_error(y_test, xgbr_pred)\n",
    "xgbr_mae = mean_absolute_error(y_test, xgbr_pred)\n",
    "xgbr_r2 = r2_score(y_test, xgbr_pred)\n",
    "\n",
    "# Create a table with the model metrics\n",
    "table = [\n",
    "    [\"Model\", \"MSE\", \"MAE\", \"R^2\"],\n",
    "    [\"Ridge\", ridge_mse, ridge_mae, ridge_r2],\n",
    "    [\"Random Forest\", rf_mse, rf_mae, rf_r2],\n",
    "    [\"XGBoost\", xgbr_mse, xgbr_mae, xgbr_r2]\n",
    "]\n",
    "\n",
    "# Print the table\n",
    "print(tabulate(table, headers=\"firstrow\", tablefmt=\"fancy_grid\"))\n"
   ]
  },
  {
   "cell_type": "markdown",
   "id": "a92b7350",
   "metadata": {},
   "source": [
    "Based on the result above the XGBoost performs better with MSE value of 11.3 and MAE of 2.6. It's R value shows a bettr fit\n",
    "in comparison to the other models.\n",
    "There is still lots of room for improvement."
   ]
  },
  {
   "cell_type": "code",
   "execution_count": 13,
   "id": "ad298034",
   "metadata": {},
   "outputs": [],
   "source": [
    "from sklearn.pipeline import make_pipeline\n",
    "from sklearn.ensemble import RandomForestRegressor\n",
    "\n",
    "# Create the pipeline\n",
    "clf = make_pipeline(\n",
    "    #OrdinalEncoder(),\n",
    "    #SimpleImputer(),\n",
    "    RandomForestRegressor(random_state=42, n_jobs=1, max_samples=0.6)\n",
    ")\n"
   ]
  },
  {
   "cell_type": "code",
   "execution_count": 14,
   "id": "e2b98580",
   "metadata": {},
   "outputs": [],
   "source": [
    "parm_Grid = {\n",
    "    #'simpleimputer__strategy': ['median', 'mean'],\n",
    "    'randomforestregressor__max_depth': range(5, 60, 5),\n",
    "    'randomforestregressor__n_estimators': range(25, 200, 25)\n",
    "}\n"
   ]
  },
  {
   "cell_type": "code",
   "execution_count": 15,
   "id": "d713255f",
   "metadata": {},
   "outputs": [],
   "source": [
    "from sklearn.model_selection import RandomizedSearchCV\n",
    "\n",
    "models_rfrs = RandomizedSearchCV(\n",
    "    clf,\n",
    "    param_distributions=parm_Grid,\n",
    "    n_iter=10,\n",
    "    cv=5,\n",
    "    n_jobs=-1,\n",
    "    random_state=42,\n",
    "    verbose=2\n",
    ")\n"
   ]
  },
  {
   "cell_type": "code",
   "execution_count": null,
   "id": "283c0765",
   "metadata": {},
   "outputs": [
    {
     "name": "stdout",
     "output_type": "stream",
     "text": [
      "Fitting 5 folds for each of 10 candidates, totalling 50 fits\n"
     ]
    }
   ],
   "source": [
    "models_rfrs.fit(X_train,y_train)"
   ]
  },
  {
   "cell_type": "markdown",
   "id": "a62047ec",
   "metadata": {},
   "source": [
    "# Cross validation for random Forest"
   ]
  },
  {
   "cell_type": "code",
   "execution_count": null,
   "id": "b58f458e",
   "metadata": {},
   "outputs": [],
   "source": []
  }
 ],
 "metadata": {
  "kernelspec": {
   "display_name": "Python 3 (ipykernel)",
   "language": "python",
   "name": "python3"
  },
  "language_info": {
   "codemirror_mode": {
    "name": "ipython",
    "version": 3
   },
   "file_extension": ".py",
   "mimetype": "text/x-python",
   "name": "python",
   "nbconvert_exporter": "python",
   "pygments_lexer": "ipython3",
   "version": "3.9.12"
  }
 },
 "nbformat": 4,
 "nbformat_minor": 5
}
