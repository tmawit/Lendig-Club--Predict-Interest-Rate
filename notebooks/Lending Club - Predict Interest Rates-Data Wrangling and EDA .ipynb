{
 "cells": [
  {
   "cell_type": "markdown",
   "id": "f87d0a9e",
   "metadata": {},
   "source": [
    "# Lending Club - Predict Interest Rates "
   ]
  },
  {
   "cell_type": "markdown",
   "id": "f8bcb1cd",
   "metadata": {},
   "source": [
    "## Data Wrangling and EDA "
   ]
  },
  {
   "cell_type": "markdown",
   "id": "7f7ee321",
   "metadata": {},
   "source": [
    "## A. Introduction "
   ]
  },
  {
   "cell_type": "markdown",
   "id": "97dc430b",
   "metadata": {},
   "source": [
    "The objective of this project is to develop a regression model to predict the interest rates on loans issued by LendingClub.\n",
    "In order to predict the interest rates, we will focus on features related to the borrower's creditworthiness, \n",
    "loan characteristics, loan term, and loan amount. Zip code and other factors can be used to accurately predict the \n",
    "interest rate assigned to a loan. An accurate model will facilitate LendingClub improving its risk assessment processes \n",
    "and making more informed decisions regarding interest rates for future loan applications. This will allow the organization \n",
    "to cut its operational cost and increase its profit.\n",
    "\n",
    "LendingClub is a leading peer-to-peer lending platform that connects borrowers with investors. Evaluating loan applications \n",
    "requires a rigorous process. Today, LendingClub assigns an interest rate to each loan by considering factors, such as \n",
    "credit score, employment history, loan amount, and loan purpose. This interest rate determination process, however, \n",
    "may involve subjective judgment, leading to potential inconsistencies and suboptimal decisions. By leveraging data and \n",
    "building a regression model, LendingClub can automate and enhance this process, resulting in improved loan pricing and \n",
    "risk management.\n"
   ]
  },
  {
   "cell_type": "markdown",
   "id": "90002d9e",
   "metadata": {},
   "source": [
    "## 1. Sourcing and loading"
   ]
  },
  {
   "cell_type": "code",
   "execution_count": 1,
   "id": "c476727a",
   "metadata": {},
   "outputs": [],
   "source": [
    "# Import relevant libraries and packages.\n",
    "import numpy as np \n",
    "import pandas as pd \n",
    "import matplotlib.pyplot as plt \n",
    "import seaborn as sns\n",
    "import statsmodels.api as sm \n",
    "\n",
    "from statsmodels.graphics.api import abline_plot \n",
    "\n",
    "from sklearn.metrics import mean_squared_error, r2_score \n",
    "from sklearn.model_selection import train_test_split \n",
    "from sklearn import linear_model, preprocessing \n"
   ]
  },
  {
   "cell_type": "markdown",
   "id": "9af4be04",
   "metadata": {},
   "source": [
    "###  Load the data"
   ]
  },
  {
   "cell_type": "code",
   "execution_count": 2,
   "id": "5a3f5c61",
   "metadata": {},
   "outputs": [],
   "source": [
    "# Load the data. \n",
    "file='lc_loan.csv'\n",
    "loan = pd.read_csv(file, dtype={'desc': str, 'verification_status_joint': str})\n"
   ]
  },
  {
   "cell_type": "markdown",
   "id": "eaf25f99",
   "metadata": {},
   "source": [
    "### Exploring the data"
   ]
  },
  {
   "cell_type": "code",
   "execution_count": 3,
   "id": "4828f2e5",
   "metadata": {},
   "outputs": [
    {
     "data": {
      "text/html": [
       "<div>\n",
       "<style scoped>\n",
       "    .dataframe tbody tr th:only-of-type {\n",
       "        vertical-align: middle;\n",
       "    }\n",
       "\n",
       "    .dataframe tbody tr th {\n",
       "        vertical-align: top;\n",
       "    }\n",
       "\n",
       "    .dataframe thead th {\n",
       "        text-align: right;\n",
       "    }\n",
       "</style>\n",
       "<table border=\"1\" class=\"dataframe\">\n",
       "  <thead>\n",
       "    <tr style=\"text-align: right;\">\n",
       "      <th></th>\n",
       "      <th>id</th>\n",
       "      <th>member_id</th>\n",
       "      <th>loan_amnt</th>\n",
       "      <th>funded_amnt</th>\n",
       "      <th>funded_amnt_inv</th>\n",
       "      <th>term</th>\n",
       "      <th>int_rate</th>\n",
       "      <th>installment</th>\n",
       "      <th>grade</th>\n",
       "      <th>sub_grade</th>\n",
       "      <th>...</th>\n",
       "      <th>total_bal_il</th>\n",
       "      <th>il_util</th>\n",
       "      <th>open_rv_12m</th>\n",
       "      <th>open_rv_24m</th>\n",
       "      <th>max_bal_bc</th>\n",
       "      <th>all_util</th>\n",
       "      <th>total_rev_hi_lim</th>\n",
       "      <th>inq_fi</th>\n",
       "      <th>total_cu_tl</th>\n",
       "      <th>inq_last_12m</th>\n",
       "    </tr>\n",
       "  </thead>\n",
       "  <tbody>\n",
       "    <tr>\n",
       "      <th>0</th>\n",
       "      <td>1077501</td>\n",
       "      <td>1296599</td>\n",
       "      <td>5000.0</td>\n",
       "      <td>5000.0</td>\n",
       "      <td>4975.0</td>\n",
       "      <td>36 months</td>\n",
       "      <td>10.65</td>\n",
       "      <td>162.87</td>\n",
       "      <td>B</td>\n",
       "      <td>B2</td>\n",
       "      <td>...</td>\n",
       "      <td>NaN</td>\n",
       "      <td>NaN</td>\n",
       "      <td>NaN</td>\n",
       "      <td>NaN</td>\n",
       "      <td>NaN</td>\n",
       "      <td>NaN</td>\n",
       "      <td>NaN</td>\n",
       "      <td>NaN</td>\n",
       "      <td>NaN</td>\n",
       "      <td>NaN</td>\n",
       "    </tr>\n",
       "    <tr>\n",
       "      <th>1</th>\n",
       "      <td>1077430</td>\n",
       "      <td>1314167</td>\n",
       "      <td>2500.0</td>\n",
       "      <td>2500.0</td>\n",
       "      <td>2500.0</td>\n",
       "      <td>60 months</td>\n",
       "      <td>15.27</td>\n",
       "      <td>59.83</td>\n",
       "      <td>C</td>\n",
       "      <td>C4</td>\n",
       "      <td>...</td>\n",
       "      <td>NaN</td>\n",
       "      <td>NaN</td>\n",
       "      <td>NaN</td>\n",
       "      <td>NaN</td>\n",
       "      <td>NaN</td>\n",
       "      <td>NaN</td>\n",
       "      <td>NaN</td>\n",
       "      <td>NaN</td>\n",
       "      <td>NaN</td>\n",
       "      <td>NaN</td>\n",
       "    </tr>\n",
       "    <tr>\n",
       "      <th>2</th>\n",
       "      <td>1077175</td>\n",
       "      <td>1313524</td>\n",
       "      <td>2400.0</td>\n",
       "      <td>2400.0</td>\n",
       "      <td>2400.0</td>\n",
       "      <td>36 months</td>\n",
       "      <td>15.96</td>\n",
       "      <td>84.33</td>\n",
       "      <td>C</td>\n",
       "      <td>C5</td>\n",
       "      <td>...</td>\n",
       "      <td>NaN</td>\n",
       "      <td>NaN</td>\n",
       "      <td>NaN</td>\n",
       "      <td>NaN</td>\n",
       "      <td>NaN</td>\n",
       "      <td>NaN</td>\n",
       "      <td>NaN</td>\n",
       "      <td>NaN</td>\n",
       "      <td>NaN</td>\n",
       "      <td>NaN</td>\n",
       "    </tr>\n",
       "    <tr>\n",
       "      <th>3</th>\n",
       "      <td>1076863</td>\n",
       "      <td>1277178</td>\n",
       "      <td>10000.0</td>\n",
       "      <td>10000.0</td>\n",
       "      <td>10000.0</td>\n",
       "      <td>36 months</td>\n",
       "      <td>13.49</td>\n",
       "      <td>339.31</td>\n",
       "      <td>C</td>\n",
       "      <td>C1</td>\n",
       "      <td>...</td>\n",
       "      <td>NaN</td>\n",
       "      <td>NaN</td>\n",
       "      <td>NaN</td>\n",
       "      <td>NaN</td>\n",
       "      <td>NaN</td>\n",
       "      <td>NaN</td>\n",
       "      <td>NaN</td>\n",
       "      <td>NaN</td>\n",
       "      <td>NaN</td>\n",
       "      <td>NaN</td>\n",
       "    </tr>\n",
       "    <tr>\n",
       "      <th>4</th>\n",
       "      <td>1075358</td>\n",
       "      <td>1311748</td>\n",
       "      <td>3000.0</td>\n",
       "      <td>3000.0</td>\n",
       "      <td>3000.0</td>\n",
       "      <td>60 months</td>\n",
       "      <td>12.69</td>\n",
       "      <td>67.79</td>\n",
       "      <td>B</td>\n",
       "      <td>B5</td>\n",
       "      <td>...</td>\n",
       "      <td>NaN</td>\n",
       "      <td>NaN</td>\n",
       "      <td>NaN</td>\n",
       "      <td>NaN</td>\n",
       "      <td>NaN</td>\n",
       "      <td>NaN</td>\n",
       "      <td>NaN</td>\n",
       "      <td>NaN</td>\n",
       "      <td>NaN</td>\n",
       "      <td>NaN</td>\n",
       "    </tr>\n",
       "  </tbody>\n",
       "</table>\n",
       "<p>5 rows × 74 columns</p>\n",
       "</div>"
      ],
      "text/plain": [
       "        id  member_id  loan_amnt  funded_amnt  funded_amnt_inv        term  \\\n",
       "0  1077501    1296599     5000.0       5000.0           4975.0   36 months   \n",
       "1  1077430    1314167     2500.0       2500.0           2500.0   60 months   \n",
       "2  1077175    1313524     2400.0       2400.0           2400.0   36 months   \n",
       "3  1076863    1277178    10000.0      10000.0          10000.0   36 months   \n",
       "4  1075358    1311748     3000.0       3000.0           3000.0   60 months   \n",
       "\n",
       "   int_rate  installment grade sub_grade  ... total_bal_il il_util  \\\n",
       "0     10.65       162.87     B        B2  ...          NaN     NaN   \n",
       "1     15.27        59.83     C        C4  ...          NaN     NaN   \n",
       "2     15.96        84.33     C        C5  ...          NaN     NaN   \n",
       "3     13.49       339.31     C        C1  ...          NaN     NaN   \n",
       "4     12.69        67.79     B        B5  ...          NaN     NaN   \n",
       "\n",
       "  open_rv_12m  open_rv_24m max_bal_bc all_util total_rev_hi_lim inq_fi  \\\n",
       "0         NaN          NaN        NaN      NaN              NaN    NaN   \n",
       "1         NaN          NaN        NaN      NaN              NaN    NaN   \n",
       "2         NaN          NaN        NaN      NaN              NaN    NaN   \n",
       "3         NaN          NaN        NaN      NaN              NaN    NaN   \n",
       "4         NaN          NaN        NaN      NaN              NaN    NaN   \n",
       "\n",
       "  total_cu_tl inq_last_12m  \n",
       "0         NaN          NaN  \n",
       "1         NaN          NaN  \n",
       "2         NaN          NaN  \n",
       "3         NaN          NaN  \n",
       "4         NaN          NaN  \n",
       "\n",
       "[5 rows x 74 columns]"
      ]
     },
     "execution_count": 3,
     "metadata": {},
     "output_type": "execute_result"
    }
   ],
   "source": [
    "# Check out its appearance. \n",
    "loan.head()"
   ]
  },
  {
   "cell_type": "code",
   "execution_count": 4,
   "id": "55acfd4e",
   "metadata": {},
   "outputs": [
    {
     "name": "stdout",
     "output_type": "stream",
     "text": [
      "<class 'pandas.core.frame.DataFrame'>\n",
      "RangeIndex: 887379 entries, 0 to 887378\n",
      "Data columns (total 74 columns):\n",
      " #   Column                       Non-Null Count   Dtype  \n",
      "---  ------                       --------------   -----  \n",
      " 0   id                           887379 non-null  int64  \n",
      " 1   member_id                    887379 non-null  int64  \n",
      " 2   loan_amnt                    887379 non-null  float64\n",
      " 3   funded_amnt                  887379 non-null  float64\n",
      " 4   funded_amnt_inv              887379 non-null  float64\n",
      " 5   term                         887379 non-null  object \n",
      " 6   int_rate                     887379 non-null  float64\n",
      " 7   installment                  887379 non-null  float64\n",
      " 8   grade                        887379 non-null  object \n",
      " 9   sub_grade                    887379 non-null  object \n",
      " 10  emp_title                    835917 non-null  object \n",
      " 11  emp_length                   842554 non-null  object \n",
      " 12  home_ownership               887379 non-null  object \n",
      " 13  annual_inc                   887375 non-null  float64\n",
      " 14  verification_status          887379 non-null  object \n",
      " 15  issue_d                      887379 non-null  object \n",
      " 16  loan_status                  887379 non-null  object \n",
      " 17  pymnt_plan                   887379 non-null  object \n",
      " 18  url                          887379 non-null  object \n",
      " 19  desc                         126028 non-null  object \n",
      " 20  purpose                      887379 non-null  object \n",
      " 21  title                        887227 non-null  object \n",
      " 22  zip_code                     887379 non-null  object \n",
      " 23  addr_state                   887379 non-null  object \n",
      " 24  dti                          887379 non-null  float64\n",
      " 25  delinq_2yrs                  887350 non-null  float64\n",
      " 26  earliest_cr_line             887350 non-null  object \n",
      " 27  inq_last_6mths               887350 non-null  float64\n",
      " 28  mths_since_last_delinq       433067 non-null  float64\n",
      " 29  mths_since_last_record       137053 non-null  float64\n",
      " 30  open_acc                     887350 non-null  float64\n",
      " 31  pub_rec                      887350 non-null  float64\n",
      " 32  revol_bal                    887379 non-null  float64\n",
      " 33  revol_util                   886877 non-null  float64\n",
      " 34  total_acc                    887350 non-null  float64\n",
      " 35  initial_list_status          887379 non-null  object \n",
      " 36  out_prncp                    887379 non-null  float64\n",
      " 37  out_prncp_inv                887379 non-null  float64\n",
      " 38  total_pymnt                  887379 non-null  float64\n",
      " 39  total_pymnt_inv              887379 non-null  float64\n",
      " 40  total_rec_prncp              887379 non-null  float64\n",
      " 41  total_rec_int                887379 non-null  float64\n",
      " 42  total_rec_late_fee           887379 non-null  float64\n",
      " 43  recoveries                   887379 non-null  float64\n",
      " 44  collection_recovery_fee      887379 non-null  float64\n",
      " 45  last_pymnt_d                 869720 non-null  object \n",
      " 46  last_pymnt_amnt              887379 non-null  float64\n",
      " 47  next_pymnt_d                 634408 non-null  object \n",
      " 48  last_credit_pull_d           887326 non-null  object \n",
      " 49  collections_12_mths_ex_med   887234 non-null  float64\n",
      " 50  mths_since_last_major_derog  221703 non-null  float64\n",
      " 51  policy_code                  887379 non-null  float64\n",
      " 52  application_type             887379 non-null  object \n",
      " 53  annual_inc_joint             511 non-null     float64\n",
      " 54  dti_joint                    509 non-null     float64\n",
      " 55  verification_status_joint    511 non-null     object \n",
      " 56  acc_now_delinq               887350 non-null  float64\n",
      " 57  tot_coll_amt                 817103 non-null  float64\n",
      " 58  tot_cur_bal                  817103 non-null  float64\n",
      " 59  open_acc_6m                  21372 non-null   float64\n",
      " 60  open_il_6m                   21372 non-null   float64\n",
      " 61  open_il_12m                  21372 non-null   float64\n",
      " 62  open_il_24m                  21372 non-null   float64\n",
      " 63  mths_since_rcnt_il           20810 non-null   float64\n",
      " 64  total_bal_il                 21372 non-null   float64\n",
      " 65  il_util                      18617 non-null   float64\n",
      " 66  open_rv_12m                  21372 non-null   float64\n",
      " 67  open_rv_24m                  21372 non-null   float64\n",
      " 68  max_bal_bc                   21372 non-null   float64\n",
      " 69  all_util                     21372 non-null   float64\n",
      " 70  total_rev_hi_lim             817103 non-null  float64\n",
      " 71  inq_fi                       21372 non-null   float64\n",
      " 72  total_cu_tl                  21372 non-null   float64\n",
      " 73  inq_last_12m                 21372 non-null   float64\n",
      "dtypes: float64(49), int64(2), object(23)\n",
      "memory usage: 501.0+ MB\n"
     ]
    }
   ],
   "source": [
    "loan.info()"
   ]
  },
  {
   "cell_type": "markdown",
   "id": "df08634a",
   "metadata": {},
   "source": [
    "This is what we can infer about the nature of the variables in the loan dataset:\n",
    "\n",
    "--The first two column refer to ID. Column ID represents a unique number for each row while member ID represents ID \n",
    "given by lending club. We will use the ID column for analysis.\n",
    "The remaining 70 columns represent different attributes of the borrower. The data types are mix of numerical and categorical \n",
    "data types. The column 'int_rate' is numerical variables representing the amount of interest rate each member was given \n",
    "when taking out a loan."
   ]
  },
  {
   "cell_type": "code",
   "execution_count": 5,
   "id": "a5a9a4c6",
   "metadata": {},
   "outputs": [
    {
     "data": {
      "text/plain": [
       "(887379, 74)"
      ]
     },
     "execution_count": 5,
     "metadata": {},
     "output_type": "execute_result"
    }
   ],
   "source": [
    "loan.shape"
   ]
  },
  {
   "cell_type": "code",
   "execution_count": 6,
   "id": "3b0d9036",
   "metadata": {},
   "outputs": [
    {
     "name": "stdout",
     "output_type": "stream",
     "text": [
      "Index(['id', 'member_id', 'loan_amnt', 'funded_amnt', 'funded_amnt_inv',\n",
      "       'term', 'int_rate', 'installment', 'grade', 'sub_grade', 'emp_title',\n",
      "       'emp_length', 'home_ownership', 'annual_inc', 'verification_status',\n",
      "       'issue_d', 'loan_status', 'pymnt_plan', 'url', 'desc', 'purpose',\n",
      "       'title', 'zip_code', 'addr_state', 'dti', 'delinq_2yrs',\n",
      "       'earliest_cr_line', 'inq_last_6mths', 'mths_since_last_delinq',\n",
      "       'mths_since_last_record', 'open_acc', 'pub_rec', 'revol_bal',\n",
      "       'revol_util', 'total_acc', 'initial_list_status', 'out_prncp',\n",
      "       'out_prncp_inv', 'total_pymnt', 'total_pymnt_inv', 'total_rec_prncp',\n",
      "       'total_rec_int', 'total_rec_late_fee', 'recoveries',\n",
      "       'collection_recovery_fee', 'last_pymnt_d', 'last_pymnt_amnt',\n",
      "       'next_pymnt_d', 'last_credit_pull_d', 'collections_12_mths_ex_med',\n",
      "       'mths_since_last_major_derog', 'policy_code', 'application_type',\n",
      "       'annual_inc_joint', 'dti_joint', 'verification_status_joint',\n",
      "       'acc_now_delinq', 'tot_coll_amt', 'tot_cur_bal', 'open_acc_6m',\n",
      "       'open_il_6m', 'open_il_12m', 'open_il_24m', 'mths_since_rcnt_il',\n",
      "       'total_bal_il', 'il_util', 'open_rv_12m', 'open_rv_24m', 'max_bal_bc',\n",
      "       'all_util', 'total_rev_hi_lim', 'inq_fi', 'total_cu_tl',\n",
      "       'inq_last_12m'],\n",
      "      dtype='object')\n"
     ]
    }
   ],
   "source": [
    "print(loan.columns)"
   ]
  },
  {
   "cell_type": "markdown",
   "id": "93cfd4b3",
   "metadata": {},
   "source": [
    "## EDA -- Cleaning, Transforming"
   ]
  },
  {
   "cell_type": "markdown",
   "id": "4f8f597d",
   "metadata": {},
   "source": [
    "These steps involve preparing the data for analysis, transforming it into a suitable format, and visualizing it to gain \n",
    "insights. Here is a general outline of these steps:\n",
    "\n",
    "Cleaning the Data: Remove unnecessary columns, deal with duplicates and handle outliers\n",
    "\n",
    "Transforming the Data: Data type conversion, Feature engineering\n",
    "\n",
    "Visualizing the Data: Univariate analysis, Bivariate analysis, Multivariate analysis"
   ]
  },
  {
   "cell_type": "markdown",
   "id": "e6434f57",
   "metadata": {},
   "source": [
    "###  Cleaning the Data"
   ]
  },
  {
   "cell_type": "markdown",
   "id": "fdd6b226",
   "metadata": {},
   "source": [
    "#### Handling missing Values"
   ]
  },
  {
   "cell_type": "code",
   "execution_count": 7,
   "id": "c6154884",
   "metadata": {},
   "outputs": [
    {
     "data": {
      "text/html": [
       "<div>\n",
       "<style scoped>\n",
       "    .dataframe tbody tr th:only-of-type {\n",
       "        vertical-align: middle;\n",
       "    }\n",
       "\n",
       "    .dataframe tbody tr th {\n",
       "        vertical-align: top;\n",
       "    }\n",
       "\n",
       "    .dataframe thead th {\n",
       "        text-align: right;\n",
       "    }\n",
       "</style>\n",
       "<table border=\"1\" class=\"dataframe\">\n",
       "  <thead>\n",
       "    <tr style=\"text-align: right;\">\n",
       "      <th></th>\n",
       "      <th>count</th>\n",
       "      <th>%</th>\n",
       "    </tr>\n",
       "  </thead>\n",
       "  <tbody>\n",
       "    <tr>\n",
       "      <th>dti_joint</th>\n",
       "      <td>886870</td>\n",
       "      <td>99.942640</td>\n",
       "    </tr>\n",
       "    <tr>\n",
       "      <th>annual_inc_joint</th>\n",
       "      <td>886868</td>\n",
       "      <td>99.942415</td>\n",
       "    </tr>\n",
       "    <tr>\n",
       "      <th>verification_status_joint</th>\n",
       "      <td>886868</td>\n",
       "      <td>99.942415</td>\n",
       "    </tr>\n",
       "    <tr>\n",
       "      <th>il_util</th>\n",
       "      <td>868762</td>\n",
       "      <td>97.902024</td>\n",
       "    </tr>\n",
       "    <tr>\n",
       "      <th>mths_since_rcnt_il</th>\n",
       "      <td>866569</td>\n",
       "      <td>97.654892</td>\n",
       "    </tr>\n",
       "    <tr>\n",
       "      <th>...</th>\n",
       "      <td>...</td>\n",
       "      <td>...</td>\n",
       "    </tr>\n",
       "    <tr>\n",
       "      <th>total_pymnt</th>\n",
       "      <td>0</td>\n",
       "      <td>0.000000</td>\n",
       "    </tr>\n",
       "    <tr>\n",
       "      <th>total_pymnt_inv</th>\n",
       "      <td>0</td>\n",
       "      <td>0.000000</td>\n",
       "    </tr>\n",
       "    <tr>\n",
       "      <th>total_rec_prncp</th>\n",
       "      <td>0</td>\n",
       "      <td>0.000000</td>\n",
       "    </tr>\n",
       "    <tr>\n",
       "      <th>total_rec_int</th>\n",
       "      <td>0</td>\n",
       "      <td>0.000000</td>\n",
       "    </tr>\n",
       "    <tr>\n",
       "      <th>out_prncp_inv</th>\n",
       "      <td>0</td>\n",
       "      <td>0.000000</td>\n",
       "    </tr>\n",
       "  </tbody>\n",
       "</table>\n",
       "<p>74 rows × 2 columns</p>\n",
       "</div>"
      ],
      "text/plain": [
       "                            count          %\n",
       "dti_joint                  886870  99.942640\n",
       "annual_inc_joint           886868  99.942415\n",
       "verification_status_joint  886868  99.942415\n",
       "il_util                    868762  97.902024\n",
       "mths_since_rcnt_il         866569  97.654892\n",
       "...                           ...        ...\n",
       "total_pymnt                     0   0.000000\n",
       "total_pymnt_inv                 0   0.000000\n",
       "total_rec_prncp                 0   0.000000\n",
       "total_rec_int                   0   0.000000\n",
       "out_prncp_inv                   0   0.000000\n",
       "\n",
       "[74 rows x 2 columns]"
      ]
     },
     "execution_count": 7,
     "metadata": {},
     "output_type": "execute_result"
    }
   ],
   "source": [
    "# Check for missing values\n",
    "missing = pd.concat([loan.isnull().sum(), 100 * loan.isnull().mean()], axis=1)\n",
    "missing.columns=['count', '%']\n",
    "missing.sort_values(by='count', ascending=False)"
   ]
  },
  {
   "cell_type": "code",
   "execution_count": 8,
   "id": "9660a3cf",
   "metadata": {},
   "outputs": [],
   "source": [
    "# Drop columns with missing values\n",
    "def removeNulls(dataframe, axis =1, percent=0.8):\n",
    "    '''\n",
    "    * removeNull function will remove the rows and columns based on parameters provided.\n",
    "    * dataframe : Name of the dataframe  \n",
    "    * axis      : axis = 0 defines drop rows, axis =1(default) defines drop columns    \n",
    "    * percent   : percent of data where column/rows values are null,default is 0.6(60%)\n",
    "              \n",
    "    '''\n",
    "    df = dataframe.copy()\n",
    "    ishape = df.shape\n",
    "    if axis == 0:\n",
    "        rownames = df.transpose().isnull().sum()\n",
    "        rownames = list(rownames[rownames.values > percent*len(df)].index)\n",
    "        df.drop(df.index[rownames],inplace=True) \n",
    "        print(\"\\nNumber of Rows removed\\t: \",len(rownames))\n",
    "    else:\n",
    "        colnames = (df.isnull().sum()/len(df))\n",
    "        colnames = list(colnames[colnames.values>=percent].index)\n",
    "        df.drop(labels = colnames,axis =1,inplace=True)        \n",
    "        print(\"Number of Columns removed\\t: \",len(colnames))\n",
    "        \n",
    "    print(\"\\nRaw dataset rows,columns\",ishape,\"\\nClean dataset rows,columns\",df.shape)\n",
    "\n",
    "    return df"
   ]
  },
  {
   "cell_type": "code",
   "execution_count": 9,
   "id": "768eebaf",
   "metadata": {},
   "outputs": [
    {
     "name": "stdout",
     "output_type": "stream",
     "text": [
      "Number of Columns removed\t:  19\n",
      "\n",
      "Raw dataset rows,columns (887379, 74) \n",
      "Clean dataset rows,columns (887379, 55)\n"
     ]
    }
   ],
   "source": [
    "# Remove columns where NA values  are more than or equal to 80%\n",
    "loan_df = removeNulls(loan, axis =1,percent = 0.80)"
   ]
  },
  {
   "cell_type": "code",
   "execution_count": 10,
   "id": "ded36d18",
   "metadata": {},
   "outputs": [
    {
     "data": {
      "text/html": [
       "<div>\n",
       "<style scoped>\n",
       "    .dataframe tbody tr th:only-of-type {\n",
       "        vertical-align: middle;\n",
       "    }\n",
       "\n",
       "    .dataframe tbody tr th {\n",
       "        vertical-align: top;\n",
       "    }\n",
       "\n",
       "    .dataframe thead th {\n",
       "        text-align: right;\n",
       "    }\n",
       "</style>\n",
       "<table border=\"1\" class=\"dataframe\">\n",
       "  <thead>\n",
       "    <tr style=\"text-align: right;\">\n",
       "      <th></th>\n",
       "      <th>id</th>\n",
       "      <th>member_id</th>\n",
       "      <th>loan_amnt</th>\n",
       "      <th>funded_amnt</th>\n",
       "      <th>funded_amnt_inv</th>\n",
       "      <th>term</th>\n",
       "      <th>int_rate</th>\n",
       "      <th>installment</th>\n",
       "      <th>grade</th>\n",
       "      <th>sub_grade</th>\n",
       "      <th>...</th>\n",
       "      <th>next_pymnt_d</th>\n",
       "      <th>last_credit_pull_d</th>\n",
       "      <th>collections_12_mths_ex_med</th>\n",
       "      <th>mths_since_last_major_derog</th>\n",
       "      <th>policy_code</th>\n",
       "      <th>application_type</th>\n",
       "      <th>acc_now_delinq</th>\n",
       "      <th>tot_coll_amt</th>\n",
       "      <th>tot_cur_bal</th>\n",
       "      <th>total_rev_hi_lim</th>\n",
       "    </tr>\n",
       "  </thead>\n",
       "  <tbody>\n",
       "    <tr>\n",
       "      <th>0</th>\n",
       "      <td>1077501</td>\n",
       "      <td>1296599</td>\n",
       "      <td>5000.0</td>\n",
       "      <td>5000.0</td>\n",
       "      <td>4975.0</td>\n",
       "      <td>36 months</td>\n",
       "      <td>10.65</td>\n",
       "      <td>162.87</td>\n",
       "      <td>B</td>\n",
       "      <td>B2</td>\n",
       "      <td>...</td>\n",
       "      <td>NaN</td>\n",
       "      <td>Jan-2016</td>\n",
       "      <td>0.0</td>\n",
       "      <td>NaN</td>\n",
       "      <td>1.0</td>\n",
       "      <td>INDIVIDUAL</td>\n",
       "      <td>0.0</td>\n",
       "      <td>NaN</td>\n",
       "      <td>NaN</td>\n",
       "      <td>NaN</td>\n",
       "    </tr>\n",
       "    <tr>\n",
       "      <th>1</th>\n",
       "      <td>1077430</td>\n",
       "      <td>1314167</td>\n",
       "      <td>2500.0</td>\n",
       "      <td>2500.0</td>\n",
       "      <td>2500.0</td>\n",
       "      <td>60 months</td>\n",
       "      <td>15.27</td>\n",
       "      <td>59.83</td>\n",
       "      <td>C</td>\n",
       "      <td>C4</td>\n",
       "      <td>...</td>\n",
       "      <td>NaN</td>\n",
       "      <td>Sep-2013</td>\n",
       "      <td>0.0</td>\n",
       "      <td>NaN</td>\n",
       "      <td>1.0</td>\n",
       "      <td>INDIVIDUAL</td>\n",
       "      <td>0.0</td>\n",
       "      <td>NaN</td>\n",
       "      <td>NaN</td>\n",
       "      <td>NaN</td>\n",
       "    </tr>\n",
       "    <tr>\n",
       "      <th>2</th>\n",
       "      <td>1077175</td>\n",
       "      <td>1313524</td>\n",
       "      <td>2400.0</td>\n",
       "      <td>2400.0</td>\n",
       "      <td>2400.0</td>\n",
       "      <td>36 months</td>\n",
       "      <td>15.96</td>\n",
       "      <td>84.33</td>\n",
       "      <td>C</td>\n",
       "      <td>C5</td>\n",
       "      <td>...</td>\n",
       "      <td>NaN</td>\n",
       "      <td>Jan-2016</td>\n",
       "      <td>0.0</td>\n",
       "      <td>NaN</td>\n",
       "      <td>1.0</td>\n",
       "      <td>INDIVIDUAL</td>\n",
       "      <td>0.0</td>\n",
       "      <td>NaN</td>\n",
       "      <td>NaN</td>\n",
       "      <td>NaN</td>\n",
       "    </tr>\n",
       "    <tr>\n",
       "      <th>3</th>\n",
       "      <td>1076863</td>\n",
       "      <td>1277178</td>\n",
       "      <td>10000.0</td>\n",
       "      <td>10000.0</td>\n",
       "      <td>10000.0</td>\n",
       "      <td>36 months</td>\n",
       "      <td>13.49</td>\n",
       "      <td>339.31</td>\n",
       "      <td>C</td>\n",
       "      <td>C1</td>\n",
       "      <td>...</td>\n",
       "      <td>NaN</td>\n",
       "      <td>Jan-2015</td>\n",
       "      <td>0.0</td>\n",
       "      <td>NaN</td>\n",
       "      <td>1.0</td>\n",
       "      <td>INDIVIDUAL</td>\n",
       "      <td>0.0</td>\n",
       "      <td>NaN</td>\n",
       "      <td>NaN</td>\n",
       "      <td>NaN</td>\n",
       "    </tr>\n",
       "    <tr>\n",
       "      <th>4</th>\n",
       "      <td>1075358</td>\n",
       "      <td>1311748</td>\n",
       "      <td>3000.0</td>\n",
       "      <td>3000.0</td>\n",
       "      <td>3000.0</td>\n",
       "      <td>60 months</td>\n",
       "      <td>12.69</td>\n",
       "      <td>67.79</td>\n",
       "      <td>B</td>\n",
       "      <td>B5</td>\n",
       "      <td>...</td>\n",
       "      <td>Feb-2016</td>\n",
       "      <td>Jan-2016</td>\n",
       "      <td>0.0</td>\n",
       "      <td>NaN</td>\n",
       "      <td>1.0</td>\n",
       "      <td>INDIVIDUAL</td>\n",
       "      <td>0.0</td>\n",
       "      <td>NaN</td>\n",
       "      <td>NaN</td>\n",
       "      <td>NaN</td>\n",
       "    </tr>\n",
       "  </tbody>\n",
       "</table>\n",
       "<p>5 rows × 55 columns</p>\n",
       "</div>"
      ],
      "text/plain": [
       "        id  member_id  loan_amnt  funded_amnt  funded_amnt_inv        term  \\\n",
       "0  1077501    1296599     5000.0       5000.0           4975.0   36 months   \n",
       "1  1077430    1314167     2500.0       2500.0           2500.0   60 months   \n",
       "2  1077175    1313524     2400.0       2400.0           2400.0   36 months   \n",
       "3  1076863    1277178    10000.0      10000.0          10000.0   36 months   \n",
       "4  1075358    1311748     3000.0       3000.0           3000.0   60 months   \n",
       "\n",
       "   int_rate  installment grade sub_grade  ... next_pymnt_d last_credit_pull_d  \\\n",
       "0     10.65       162.87     B        B2  ...          NaN           Jan-2016   \n",
       "1     15.27        59.83     C        C4  ...          NaN           Sep-2013   \n",
       "2     15.96        84.33     C        C5  ...          NaN           Jan-2016   \n",
       "3     13.49       339.31     C        C1  ...          NaN           Jan-2015   \n",
       "4     12.69        67.79     B        B5  ...     Feb-2016           Jan-2016   \n",
       "\n",
       "  collections_12_mths_ex_med  mths_since_last_major_derog policy_code  \\\n",
       "0                        0.0                          NaN         1.0   \n",
       "1                        0.0                          NaN         1.0   \n",
       "2                        0.0                          NaN         1.0   \n",
       "3                        0.0                          NaN         1.0   \n",
       "4                        0.0                          NaN         1.0   \n",
       "\n",
       "  application_type acc_now_delinq tot_coll_amt tot_cur_bal total_rev_hi_lim  \n",
       "0       INDIVIDUAL            0.0          NaN         NaN              NaN  \n",
       "1       INDIVIDUAL            0.0          NaN         NaN              NaN  \n",
       "2       INDIVIDUAL            0.0          NaN         NaN              NaN  \n",
       "3       INDIVIDUAL            0.0          NaN         NaN              NaN  \n",
       "4       INDIVIDUAL            0.0          NaN         NaN              NaN  \n",
       "\n",
       "[5 rows x 55 columns]"
      ]
     },
     "execution_count": 10,
     "metadata": {},
     "output_type": "execute_result"
    }
   ],
   "source": [
    "loan_df.head()"
   ]
  },
  {
   "cell_type": "markdown",
   "id": "a26b048d",
   "metadata": {},
   "source": [
    "After removing columns with more than 80% missing values, let's examine the remaining columns to determine the number of NaN entries. \n",
    "This analysis will provide us with an understanding of the extent to which the remaining data is missing."
   ]
  },
  {
   "cell_type": "code",
   "execution_count": 11,
   "id": "59d02deb",
   "metadata": {},
   "outputs": [
    {
     "name": "stdout",
     "output_type": "stream",
     "text": [
      "NaN Analysis:\n",
      " id                                  0\n",
      "member_id                           0\n",
      "loan_amnt                           0\n",
      "funded_amnt                         0\n",
      "funded_amnt_inv                     0\n",
      "term                                0\n",
      "int_rate                            0\n",
      "installment                         0\n",
      "grade                               0\n",
      "sub_grade                           0\n",
      "emp_title                       51462\n",
      "emp_length                      44825\n",
      "home_ownership                      0\n",
      "annual_inc                          4\n",
      "verification_status                 0\n",
      "issue_d                             0\n",
      "loan_status                         0\n",
      "pymnt_plan                          0\n",
      "url                                 0\n",
      "purpose                             0\n",
      "title                             152\n",
      "zip_code                            0\n",
      "addr_state                          0\n",
      "dti                                 0\n",
      "delinq_2yrs                        29\n",
      "earliest_cr_line                   29\n",
      "inq_last_6mths                     29\n",
      "mths_since_last_delinq         454312\n",
      "open_acc                           29\n",
      "pub_rec                            29\n",
      "revol_bal                           0\n",
      "revol_util                        502\n",
      "total_acc                          29\n",
      "initial_list_status                 0\n",
      "out_prncp                           0\n",
      "out_prncp_inv                       0\n",
      "total_pymnt                         0\n",
      "total_pymnt_inv                     0\n",
      "total_rec_prncp                     0\n",
      "total_rec_int                       0\n",
      "total_rec_late_fee                  0\n",
      "recoveries                          0\n",
      "collection_recovery_fee             0\n",
      "last_pymnt_d                    17659\n",
      "last_pymnt_amnt                     0\n",
      "next_pymnt_d                   252971\n",
      "last_credit_pull_d                 53\n",
      "collections_12_mths_ex_med        145\n",
      "mths_since_last_major_derog    665676\n",
      "policy_code                         0\n",
      "application_type                    0\n",
      "acc_now_delinq                     29\n",
      "tot_coll_amt                    70276\n",
      "tot_cur_bal                     70276\n",
      "total_rev_hi_lim                70276\n",
      "dtype: int64\n"
     ]
    }
   ],
   "source": [
    "# Analyze NaN entries\n",
    "nan_analysis = loan_df.isnull().sum()\n",
    "print(\"NaN Analysis:\\n\", nan_analysis)"
   ]
  },
  {
   "cell_type": "code",
   "execution_count": 12,
   "id": "26a17dd0",
   "metadata": {},
   "outputs": [
    {
     "data": {
      "text/plain": [
       "Teacher                                     13469\n",
       "Manager                                     11240\n",
       "Registered Nurse                             5525\n",
       "Owner                                        5376\n",
       "RN                                           5355\n",
       "                                            ...  \n",
       "Thomas J. Paul, Inc.                            1\n",
       "Piggie Toes Preschool                           1\n",
       "greystone park psychiatric hospital             1\n",
       "Las Vegas Motropolitan Police Department        1\n",
       "Manager Hotel Operations Oasis                  1\n",
       "Name: emp_title, Length: 299271, dtype: int64"
      ]
     },
     "execution_count": 12,
     "metadata": {},
     "output_type": "execute_result"
    }
   ],
   "source": [
    "#lloking at emp_title\n",
    "loan_df['emp_title'].value_counts()"
   ]
  },
  {
   "cell_type": "markdown",
   "id": "29839abc",
   "metadata": {},
   "source": [
    "It looks like that the nan values are represented 'unemployed'. Let's investigate further."
   ]
  },
  {
   "cell_type": "code",
   "execution_count": 13,
   "id": "1d3776a3",
   "metadata": {},
   "outputs": [],
   "source": [
    "# Filter data where empl_Title is \"unemployed\" or \"Unemployed\"\n",
    "filtered_data = loan_df[loan_df['emp_title'].str.lower().str.contains('unemployed|other', na=False, regex=True)]"
   ]
  },
  {
   "cell_type": "markdown",
   "id": "443d9499",
   "metadata": {},
   "source": [
    "Based on the result above, we can assume that the Nan values represent unemployment."
   ]
  },
  {
   "cell_type": "code",
   "execution_count": 14,
   "id": "b40974b5",
   "metadata": {},
   "outputs": [],
   "source": [
    "#fill nan values of emp_title with unemployed\n",
    "loan_df['emp_title'] = loan_df['emp_title'].fillna(\"Unemployed\")"
   ]
  },
  {
   "cell_type": "code",
   "execution_count": 15,
   "id": "d300363e",
   "metadata": {},
   "outputs": [],
   "source": [
    "#fill nan values of title with other\n",
    "loan_df['title'] = loan_df['title'].fillna('Other')"
   ]
  },
  {
   "cell_type": "code",
   "execution_count": 16,
   "id": "ea2fdb4b",
   "metadata": {},
   "outputs": [
    {
     "name": "stderr",
     "output_type": "stream",
     "text": [
      "C:\\Users\\Sebuh\\AppData\\Local\\Temp\\ipykernel_272\\3249437325.py:4: FutureWarning: Dropping of nuisance columns in DataFrame reductions (with 'numeric_only=None') is deprecated; in a future version this will raise TypeError.  Select only valid columns before calling the reduction.\n",
      "  loan_df[column] = loan_df[column].fillna(loan_df[column].median())\n"
     ]
    }
   ],
   "source": [
    "#replace the NaN values in the columns 'open_acc', 'delinq_2yrs', 'inq_last_6mths','annual_inc', 'pub_rec', last_credit_pull_d\n",
    "#'revol_util', 'total_acc', 'acc_now_delinq', 'mths_since_last_major_derog' with their respective median values:\n",
    "column=['open_acc', 'delinq_2yrs', 'inq_last_6mths','annual_inc', 'pub_rec', 'revol_util', 'total_acc', 'acc_now_delinq', 'mths_since_last_major_derog','last_credit_pull_d']\n",
    "loan_df[column] = loan_df[column].fillna(loan_df[column].median())    \n"
   ]
  },
  {
   "cell_type": "markdown",
   "id": "4d15c18b",
   "metadata": {},
   "source": [
    "Our focus for this project is historical data, thus the column next_pymnt_d is not relevant. We will drop the column."
   ]
  },
  {
   "cell_type": "code",
   "execution_count": 17,
   "id": "e6ff2c20",
   "metadata": {},
   "outputs": [],
   "source": [
    "loan_df.drop(['next_pymnt_d', 'policy_code', 'member_id'], axis=1, inplace=True)"
   ]
  },
  {
   "cell_type": "markdown",
   "id": "66bcce59",
   "metadata": {},
   "source": [
    "####  Transforming the Data"
   ]
  },
  {
   "cell_type": "markdown",
   "id": "77fd7adb",
   "metadata": {},
   "source": [
    "Investigating emp_length column"
   ]
  },
  {
   "cell_type": "code",
   "execution_count": 18,
   "id": "110a5588",
   "metadata": {},
   "outputs": [
    {
     "data": {
      "text/plain": [
       "10+ years    291569\n",
       "2 years       78870\n",
       "< 1 year      70605\n",
       "3 years       70026\n",
       "1 year        57095\n",
       "5 years       55704\n",
       "4 years       52529\n",
       "7 years       44594\n",
       "8 years       43955\n",
       "6 years       42950\n",
       "9 years       34657\n",
       "Name: emp_length, dtype: int64"
      ]
     },
     "execution_count": 18,
     "metadata": {},
     "output_type": "execute_result"
    }
   ],
   "source": [
    "loan_df['emp_length'].value_counts()"
   ]
  },
  {
   "cell_type": "code",
   "execution_count": 19,
   "id": "d1ce8214",
   "metadata": {},
   "outputs": [],
   "source": [
    "#convert emp_length to numbers only\n",
    "#code copied from https://www.kaggle.com/code/dhananjayashok/lending-club-interest-rate-prediction-and-eda\n",
    "def converter_emp_length(x):\n",
    "    if x == \"10+ years\": return 10\n",
    "    elif x == \"2 years\": return 2\n",
    "    elif x == \"< 1 year\": return 0\n",
    "    elif x == \"3 years\": return 3\n",
    "    elif x == \"1 year\": return 1\n",
    "    elif x == \"4 years\": return 4\n",
    "    elif x == \"5 years\": return 5\n",
    "    elif x == \"6 years\": return 6\n",
    "    elif x == \"7 years\": return 7\n",
    "    elif x == \"8 years\": return 8\n",
    "    elif x == \"9 years\": return 9\n",
    "    else:\n",
    "        return 10 \n"
   ]
  },
  {
   "cell_type": "code",
   "execution_count": 20,
   "id": "c35c3bb8",
   "metadata": {},
   "outputs": [
    {
     "data": {
      "text/plain": [
       "10.99    34624\n",
       "9.17     25720\n",
       "15.61    25201\n",
       "9.99     21553\n",
       "7.89     20311\n",
       "         ...  \n",
       "18.72        1\n",
       "24.59        1\n",
       "22.64        1\n",
       "14.28        1\n",
       "17.44        1\n",
       "Name: int_rate, Length: 542, dtype: int64"
      ]
     },
     "execution_count": 20,
     "metadata": {},
     "output_type": "execute_result"
    }
   ],
   "source": [
    "# Get a list of the values of the int_rate variable, and the number of occurrences of each. \n",
    "loan['int_rate'].value_counts(dropna=False) "
   ]
  },
  {
   "cell_type": "code",
   "execution_count": 21,
   "id": "d060a3ab",
   "metadata": {},
   "outputs": [],
   "source": [
    " loan_df['emp_length'] = loan_df['emp_length'].apply(converter_emp_length)"
   ]
  },
  {
   "cell_type": "code",
   "execution_count": 22,
   "id": "be122117",
   "metadata": {},
   "outputs": [
    {
     "data": {
      "text/plain": [
       "10    336394\n",
       "2      78870\n",
       "0      70605\n",
       "3      70026\n",
       "1      57095\n",
       "5      55704\n",
       "4      52529\n",
       "7      44594\n",
       "8      43955\n",
       "6      42950\n",
       "9      34657\n",
       "Name: emp_length, dtype: int64"
      ]
     },
     "execution_count": 22,
     "metadata": {},
     "output_type": "execute_result"
    }
   ],
   "source": [
    "loan_df['emp_length'].value_counts()"
   ]
  },
  {
   "cell_type": "code",
   "execution_count": 23,
   "id": "36fb8a99",
   "metadata": {},
   "outputs": [],
   "source": [
    "#convert the \"issue_d\" column to the datetime64\n",
    "loan_df['issue_d'] = pd.to_datetime(loan_df['issue_d'])"
   ]
  },
  {
   "cell_type": "code",
   "execution_count": 24,
   "id": "2efc5a0a",
   "metadata": {},
   "outputs": [
    {
     "data": {
      "text/plain": [
       "array([ nan,  35.,  38.,  61.,   8.,  20.,  18.,  68.,  45.,  48.,  41.,\n",
       "        40.,  74.,  25.,  53.,  39.,  10.,  26.,  56.,  77.,  28.,  52.,\n",
       "        24.,  16.,  60.,  54.,  23.,   9.,  11.,  13.,  65.,  19.,  80.,\n",
       "        22.,  59.,  79.,  44.,  64.,  57.,  14.,  63.,  49.,  15.,  73.,\n",
       "        70.,  29.,  51.,   5.,  75.,  55.,   2.,  30.,  47.,  33.,  69.,\n",
       "         4.,  43.,  21.,  27.,  46.,  81.,  78.,  82.,  31.,  76.,  62.,\n",
       "        72.,  42.,  50.,   3.,  12.,  67.,  36.,  34.,  58.,  17.,  71.,\n",
       "        66.,  32.,   6.,  37.,   7.,   1.,  83.,  86., 115.,  96., 103.,\n",
       "       120., 106.,  89., 107.,  85.,  97.,  95.,   0., 110.,  84., 135.,\n",
       "        88.,  87., 122.,  91., 146., 134., 114.,  99.,  93., 127., 101.,\n",
       "        94., 102., 129., 113., 139., 131., 156., 143., 109., 119., 149.,\n",
       "       118., 130., 148., 126.,  90., 141., 116., 100., 152.,  98.,  92.,\n",
       "       108., 133., 104., 111., 105., 170., 124., 136., 180., 188., 140.,\n",
       "       151., 159., 121., 123., 157., 112., 154., 171., 142., 125., 117.,\n",
       "       176., 137.])"
      ]
     },
     "execution_count": 24,
     "metadata": {},
     "output_type": "execute_result"
    }
   ],
   "source": [
    "#looking into mths_since_last_delinq\n",
    "loan_df['mths_since_last_delinq'].unique() "
   ]
  },
  {
   "cell_type": "code",
   "execution_count": 25,
   "id": "3bbef172",
   "metadata": {},
   "outputs": [],
   "source": [
    "# Replace NaN values with the median value\n",
    "median_value = loan_df['mths_since_last_delinq'].median()\n",
    "loan_df['mths_since_last_delinq'].fillna(median_value, inplace=True)"
   ]
  },
  {
   "cell_type": "code",
   "execution_count": 26,
   "id": "7db53f5a",
   "metadata": {},
   "outputs": [
    {
     "name": "stderr",
     "output_type": "stream",
     "text": [
      "C:\\Users\\Sebuh\\AppData\\Local\\Temp\\ipykernel_272\\1156362564.py:2: FutureWarning: The default value of regex will change from True to False in a future version. In addition, single character regular expressions will *not* be treated as literal strings when regex=True.\n",
      "  loan_df['mths_since_last_delinq'] = loan_df['mths_since_last_delinq'].astype(str).str.replace('.', '').astype(int)\n"
     ]
    }
   ],
   "source": [
    "# Convert the column to numeric\n",
    "loan_df['mths_since_last_delinq'] = loan_df['mths_since_last_delinq'].astype(str).str.replace('.', '').astype(int)\n",
    "\n"
   ]
  },
  {
   "cell_type": "code",
   "execution_count": 27,
   "id": "e32eb5e7",
   "metadata": {},
   "outputs": [
    {
     "data": {
      "text/plain": [
       "dtype('int32')"
      ]
     },
     "execution_count": 27,
     "metadata": {},
     "output_type": "execute_result"
    }
   ],
   "source": [
    "loan_df['mths_since_last_delinq'].dtype "
   ]
  },
  {
   "cell_type": "code",
   "execution_count": 28,
   "id": "7b7b2995",
   "metadata": {},
   "outputs": [],
   "source": [
    "#Extract numeric values from the \"term\" column and add new column 'term_in_month'\n",
    "loan_df['term_in_month'] = loan_df['term'].str.extract('(\\d+)').astype(int)"
   ]
  },
  {
   "cell_type": "code",
   "execution_count": 29,
   "id": "1a88ad21",
   "metadata": {},
   "outputs": [
    {
     "data": {
      "text/html": [
       "<div>\n",
       "<style scoped>\n",
       "    .dataframe tbody tr th:only-of-type {\n",
       "        vertical-align: middle;\n",
       "    }\n",
       "\n",
       "    .dataframe tbody tr th {\n",
       "        vertical-align: top;\n",
       "    }\n",
       "\n",
       "    .dataframe thead th {\n",
       "        text-align: right;\n",
       "    }\n",
       "</style>\n",
       "<table border=\"1\" class=\"dataframe\">\n",
       "  <thead>\n",
       "    <tr style=\"text-align: right;\">\n",
       "      <th></th>\n",
       "      <th>id</th>\n",
       "      <th>loan_amnt</th>\n",
       "      <th>funded_amnt</th>\n",
       "      <th>funded_amnt_inv</th>\n",
       "      <th>term</th>\n",
       "      <th>int_rate</th>\n",
       "      <th>installment</th>\n",
       "      <th>grade</th>\n",
       "      <th>sub_grade</th>\n",
       "      <th>emp_title</th>\n",
       "      <th>...</th>\n",
       "      <th>last_pymnt_amnt</th>\n",
       "      <th>last_credit_pull_d</th>\n",
       "      <th>collections_12_mths_ex_med</th>\n",
       "      <th>mths_since_last_major_derog</th>\n",
       "      <th>application_type</th>\n",
       "      <th>acc_now_delinq</th>\n",
       "      <th>tot_coll_amt</th>\n",
       "      <th>tot_cur_bal</th>\n",
       "      <th>total_rev_hi_lim</th>\n",
       "      <th>term_in_month</th>\n",
       "    </tr>\n",
       "  </thead>\n",
       "  <tbody>\n",
       "    <tr>\n",
       "      <th>0</th>\n",
       "      <td>1077501</td>\n",
       "      <td>5000.0</td>\n",
       "      <td>5000.0</td>\n",
       "      <td>4975.0</td>\n",
       "      <td>36 months</td>\n",
       "      <td>10.65</td>\n",
       "      <td>162.87</td>\n",
       "      <td>B</td>\n",
       "      <td>B2</td>\n",
       "      <td>Unemployed</td>\n",
       "      <td>...</td>\n",
       "      <td>171.62</td>\n",
       "      <td>Jan-2016</td>\n",
       "      <td>0.0</td>\n",
       "      <td>44.0</td>\n",
       "      <td>INDIVIDUAL</td>\n",
       "      <td>0.0</td>\n",
       "      <td>NaN</td>\n",
       "      <td>NaN</td>\n",
       "      <td>NaN</td>\n",
       "      <td>36</td>\n",
       "    </tr>\n",
       "    <tr>\n",
       "      <th>1</th>\n",
       "      <td>1077430</td>\n",
       "      <td>2500.0</td>\n",
       "      <td>2500.0</td>\n",
       "      <td>2500.0</td>\n",
       "      <td>60 months</td>\n",
       "      <td>15.27</td>\n",
       "      <td>59.83</td>\n",
       "      <td>C</td>\n",
       "      <td>C4</td>\n",
       "      <td>Ryder</td>\n",
       "      <td>...</td>\n",
       "      <td>119.66</td>\n",
       "      <td>Sep-2013</td>\n",
       "      <td>0.0</td>\n",
       "      <td>44.0</td>\n",
       "      <td>INDIVIDUAL</td>\n",
       "      <td>0.0</td>\n",
       "      <td>NaN</td>\n",
       "      <td>NaN</td>\n",
       "      <td>NaN</td>\n",
       "      <td>60</td>\n",
       "    </tr>\n",
       "    <tr>\n",
       "      <th>2</th>\n",
       "      <td>1077175</td>\n",
       "      <td>2400.0</td>\n",
       "      <td>2400.0</td>\n",
       "      <td>2400.0</td>\n",
       "      <td>36 months</td>\n",
       "      <td>15.96</td>\n",
       "      <td>84.33</td>\n",
       "      <td>C</td>\n",
       "      <td>C5</td>\n",
       "      <td>Unemployed</td>\n",
       "      <td>...</td>\n",
       "      <td>649.91</td>\n",
       "      <td>Jan-2016</td>\n",
       "      <td>0.0</td>\n",
       "      <td>44.0</td>\n",
       "      <td>INDIVIDUAL</td>\n",
       "      <td>0.0</td>\n",
       "      <td>NaN</td>\n",
       "      <td>NaN</td>\n",
       "      <td>NaN</td>\n",
       "      <td>36</td>\n",
       "    </tr>\n",
       "    <tr>\n",
       "      <th>3</th>\n",
       "      <td>1076863</td>\n",
       "      <td>10000.0</td>\n",
       "      <td>10000.0</td>\n",
       "      <td>10000.0</td>\n",
       "      <td>36 months</td>\n",
       "      <td>13.49</td>\n",
       "      <td>339.31</td>\n",
       "      <td>C</td>\n",
       "      <td>C1</td>\n",
       "      <td>AIR RESOURCES BOARD</td>\n",
       "      <td>...</td>\n",
       "      <td>357.48</td>\n",
       "      <td>Jan-2015</td>\n",
       "      <td>0.0</td>\n",
       "      <td>44.0</td>\n",
       "      <td>INDIVIDUAL</td>\n",
       "      <td>0.0</td>\n",
       "      <td>NaN</td>\n",
       "      <td>NaN</td>\n",
       "      <td>NaN</td>\n",
       "      <td>36</td>\n",
       "    </tr>\n",
       "    <tr>\n",
       "      <th>4</th>\n",
       "      <td>1075358</td>\n",
       "      <td>3000.0</td>\n",
       "      <td>3000.0</td>\n",
       "      <td>3000.0</td>\n",
       "      <td>60 months</td>\n",
       "      <td>12.69</td>\n",
       "      <td>67.79</td>\n",
       "      <td>B</td>\n",
       "      <td>B5</td>\n",
       "      <td>University Medical Group</td>\n",
       "      <td>...</td>\n",
       "      <td>67.79</td>\n",
       "      <td>Jan-2016</td>\n",
       "      <td>0.0</td>\n",
       "      <td>44.0</td>\n",
       "      <td>INDIVIDUAL</td>\n",
       "      <td>0.0</td>\n",
       "      <td>NaN</td>\n",
       "      <td>NaN</td>\n",
       "      <td>NaN</td>\n",
       "      <td>60</td>\n",
       "    </tr>\n",
       "  </tbody>\n",
       "</table>\n",
       "<p>5 rows × 53 columns</p>\n",
       "</div>"
      ],
      "text/plain": [
       "        id  loan_amnt  funded_amnt  funded_amnt_inv        term  int_rate  \\\n",
       "0  1077501     5000.0       5000.0           4975.0   36 months     10.65   \n",
       "1  1077430     2500.0       2500.0           2500.0   60 months     15.27   \n",
       "2  1077175     2400.0       2400.0           2400.0   36 months     15.96   \n",
       "3  1076863    10000.0      10000.0          10000.0   36 months     13.49   \n",
       "4  1075358     3000.0       3000.0           3000.0   60 months     12.69   \n",
       "\n",
       "   installment grade sub_grade                 emp_title  ...  \\\n",
       "0       162.87     B        B2                Unemployed  ...   \n",
       "1        59.83     C        C4                     Ryder  ...   \n",
       "2        84.33     C        C5                Unemployed  ...   \n",
       "3       339.31     C        C1       AIR RESOURCES BOARD  ...   \n",
       "4        67.79     B        B5  University Medical Group  ...   \n",
       "\n",
       "   last_pymnt_amnt last_credit_pull_d  collections_12_mths_ex_med  \\\n",
       "0           171.62           Jan-2016                         0.0   \n",
       "1           119.66           Sep-2013                         0.0   \n",
       "2           649.91           Jan-2016                         0.0   \n",
       "3           357.48           Jan-2015                         0.0   \n",
       "4            67.79           Jan-2016                         0.0   \n",
       "\n",
       "  mths_since_last_major_derog application_type acc_now_delinq tot_coll_amt  \\\n",
       "0                        44.0       INDIVIDUAL            0.0          NaN   \n",
       "1                        44.0       INDIVIDUAL            0.0          NaN   \n",
       "2                        44.0       INDIVIDUAL            0.0          NaN   \n",
       "3                        44.0       INDIVIDUAL            0.0          NaN   \n",
       "4                        44.0       INDIVIDUAL            0.0          NaN   \n",
       "\n",
       "  tot_cur_bal total_rev_hi_lim term_in_month  \n",
       "0         NaN              NaN            36  \n",
       "1         NaN              NaN            60  \n",
       "2         NaN              NaN            36  \n",
       "3         NaN              NaN            36  \n",
       "4         NaN              NaN            60  \n",
       "\n",
       "[5 rows x 53 columns]"
      ]
     },
     "execution_count": 29,
     "metadata": {},
     "output_type": "execute_result"
    }
   ],
   "source": [
    "loan_df.head()"
   ]
  },
  {
   "cell_type": "code",
   "execution_count": 30,
   "id": "9262237f",
   "metadata": {},
   "outputs": [],
   "source": [
    "##convert the \"earliest_cr_line\" column to the datetime64\n",
    "loan_df['earliest_cr_line'] = pd.to_datetime(loan_df['earliest_cr_line'])"
   ]
  },
  {
   "cell_type": "code",
   "execution_count": 31,
   "id": "e85978ab",
   "metadata": {},
   "outputs": [],
   "source": [
    "# Calculate the average value of earlies credit line column\n",
    "average_value = loan_df['earliest_cr_line'].mean()\n",
    "\n",
    "# Fill NaN values with the average\n",
    "loan_df['earliest_cr_line'].fillna(average_value, inplace=True)"
   ]
  },
  {
   "cell_type": "code",
   "execution_count": 32,
   "id": "83fbe7a8",
   "metadata": {},
   "outputs": [],
   "source": [
    "# Calculate the average value of 'last_credit_pull_d' column\n",
    "most_frequent_value = loan_df['last_credit_pull_d'].mode().iloc[0]\n",
    "\n",
    "# Fill NaN values with the average\n",
    "loan_df['last_credit_pull_d'].fillna(most_frequent_value, inplace=True)\n"
   ]
  },
  {
   "cell_type": "markdown",
   "id": "cf528b64",
   "metadata": {},
   "source": [
    "There are 3 columns ('tot_cur_bal', 'total_rev_hi_lim' and tot_coll_amt') with exacat same amount of misssing values\n",
    "Next, we will conduct analysis to identify if these three columns have missing values in the same rows and if they share a common pattern of missing data."
   ]
  },
  {
   "cell_type": "code",
   "execution_count": 33,
   "id": "5793e43e",
   "metadata": {},
   "outputs": [
    {
     "data": {
      "image/png": "[encoded data removed]",
      "text/plain": [
       "<Figure size 720x432 with 1 Axes>"
      ]
     },
     "metadata": {
      "needs_background": "light"
     },
     "output_type": "display_data"
    }
   ],
   "source": [
    "# Check the number of missing values in each column\n",
    "columns = ['tot_cur_bal', 'total_rev_hi_lim', 'tot_coll_amt']\n",
    "\n",
    "# Create a subset DataFrame with the selected columns\n",
    "subset_df = loan_df[columns]\n",
    "\n",
    "# Create a heatmap of missing values\n",
    "plt.figure(figsize=(10, 6))\n",
    "sns.heatmap(subset_df.isnull(), cmap='viridis', cbar=False)\n",
    "plt.title('Missing Data Heatmap')\n",
    "plt.xlabel('Columns')\n",
    "plt.ylabel('Rows')\n",
    "plt.show()"
   ]
  },
  {
   "cell_type": "code",
   "execution_count": 34,
   "id": "b0bd4a1c",
   "metadata": {},
   "outputs": [],
   "source": [
    "# Drop rows with missing values in all three columns\n",
    "loan_df.dropna(subset=['tot_cur_bal', 'total_rev_hi_lim', 'tot_coll_amt'], how='all', inplace=True)\n"
   ]
  },
  {
   "cell_type": "code",
   "execution_count": 35,
   "id": "5db2f325",
   "metadata": {},
   "outputs": [],
   "source": [
    "# Calculate the average value of 'last_pymnt_d' column\n",
    "most_frequent_value = loan_df['last_pymnt_d'].mode().iloc[0]\n",
    "\n",
    "# Fill NaN values with the average\n",
    "loan_df['last_pymnt_d'].fillna(most_frequent_value, inplace=True)"
   ]
  },
  {
   "cell_type": "code",
   "execution_count": 36,
   "id": "4a1808d3",
   "metadata": {},
   "outputs": [
    {
     "name": "stdout",
     "output_type": "stream",
     "text": [
      "NaN Analysis:\n",
      " id                             0\n",
      "loan_amnt                      0\n",
      "funded_amnt                    0\n",
      "funded_amnt_inv                0\n",
      "term                           0\n",
      "int_rate                       0\n",
      "installment                    0\n",
      "grade                          0\n",
      "sub_grade                      0\n",
      "emp_title                      0\n",
      "emp_length                     0\n",
      "home_ownership                 0\n",
      "annual_inc                     0\n",
      "verification_status            0\n",
      "issue_d                        0\n",
      "loan_status                    0\n",
      "pymnt_plan                     0\n",
      "url                            0\n",
      "purpose                        0\n",
      "title                          0\n",
      "zip_code                       0\n",
      "addr_state                     0\n",
      "dti                            0\n",
      "delinq_2yrs                    0\n",
      "earliest_cr_line               0\n",
      "inq_last_6mths                 0\n",
      "mths_since_last_delinq         0\n",
      "open_acc                       0\n",
      "pub_rec                        0\n",
      "revol_bal                      0\n",
      "revol_util                     0\n",
      "total_acc                      0\n",
      "initial_list_status            0\n",
      "out_prncp                      0\n",
      "out_prncp_inv                  0\n",
      "total_pymnt                    0\n",
      "total_pymnt_inv                0\n",
      "total_rec_prncp                0\n",
      "total_rec_int                  0\n",
      "total_rec_late_fee             0\n",
      "recoveries                     0\n",
      "collection_recovery_fee        0\n",
      "last_pymnt_d                   0\n",
      "last_pymnt_amnt                0\n",
      "last_credit_pull_d             0\n",
      "collections_12_mths_ex_med     0\n",
      "mths_since_last_major_derog    0\n",
      "application_type               0\n",
      "acc_now_delinq                 0\n",
      "tot_coll_amt                   0\n",
      "tot_cur_bal                    0\n",
      "total_rev_hi_lim               0\n",
      "term_in_month                  0\n",
      "dtype: int64\n"
     ]
    }
   ],
   "source": [
    "#conduct analysis to see if we still have missing values in our dataset\n",
    "nan_analysis = loan_df.isnull().sum()\n",
    "print(\"NaN Analysis:\\n\", nan_analysis)"
   ]
  },
  {
   "cell_type": "markdown",
   "id": "0ee42757",
   "metadata": {},
   "source": [
    "# 2.0 EDA -- Visualizing the Data"
   ]
  },
  {
   "cell_type": "markdown",
   "id": "1f58e062",
   "metadata": {},
   "source": [
    "Choosing a dependent variable"
   ]
  },
  {
   "cell_type": "markdown",
   "id": "dc3f2128",
   "metadata": {},
   "source": [
    "Now, we will pick a dependent variable for our regression analysisa i.e. the variable whose values will be predicted. \n",
    "\n",
    "'int_rate' is good a candidate. Next, we will check it out. by making a histogram of it to get an idea of \n",
    "the center and spread of its values. "
   ]
  },
  {
   "cell_type": "markdown",
   "id": "53aaca79",
   "metadata": {},
   "source": [
    "### Univariate analysis"
   ]
  },
  {
   "cell_type": "markdown",
   "id": "d9085a60",
   "metadata": {},
   "source": [
    "Plot a histogram visualize the distribution of interest rates. This will help us understand the shape of the distribution and identify any potential outliers or unusual patterns."
   ]
  },
  {
   "cell_type": "code",
   "execution_count": 37,
   "id": "9a49b301",
   "metadata": {},
   "outputs": [
    {
     "data": {
      "image/png": "[encoded data removed]",
      "text/plain": [
       "<Figure size 432x288 with 1 Axes>"
      ]
     },
     "metadata": {
      "needs_background": "light"
     },
     "output_type": "display_data"
    }
   ],
   "source": [
    "plt.hist(loan_df['int_rate'], bins=30, edgecolor='black')\n",
    "plt.xlabel('Interest Rate')\n",
    "plt.ylabel('Frequency')\n",
    "plt.title('Distribution of Interest Rates')\n",
    "plt.show()"
   ]
  },
  {
   "cell_type": "markdown",
   "id": "6408368d",
   "metadata": {},
   "source": [
    "lowest interest rate given by Lending Club is around 6% while the highest is 28%."
   ]
  },
  {
   "cell_type": "markdown",
   "id": "0b1a0160",
   "metadata": {},
   "source": [
    "we will Start by examining basic statistics of the loan interest rates, such as mean, median, \n",
    "mode, minimum, maximum, and standard deviation. This will provide an overview of the central tendency, spread,\n",
    "and distribution of interest rates."
   ]
  },
  {
   "cell_type": "markdown",
   "id": "12ef756e",
   "metadata": {},
   "source": [
    "### Descriptive Statistics"
   ]
  },
  {
   "cell_type": "code",
   "execution_count": 38,
   "id": "e53850a9",
   "metadata": {},
   "outputs": [
    {
     "name": "stdout",
     "output_type": "stream",
     "text": [
      "count    817103.000000\n",
      "mean         13.304362\n",
      "std           4.407272\n",
      "min           5.320000\n",
      "25%           9.990000\n",
      "50%          12.990000\n",
      "75%          16.290000\n",
      "max          28.990000\n",
      "Name: int_rate, dtype: float64\n"
     ]
    }
   ],
   "source": [
    "# descriptive statistics for loan interest rate\n",
    "int_rate_stats = loan_df['int_rate'].describe()\n",
    "\n",
    "# Print the statistics\n",
    "print(int_rate_stats)"
   ]
  },
  {
   "cell_type": "markdown",
   "id": "9d96dca8",
   "metadata": {},
   "source": [
    "    Mean: The mean interest rate is approximately 13.25%.\n",
    "    Median: The median interest rate is approximately 12.99%.\n",
    "\n",
    "Both the mean and median provide an estimate of the central value around which the interest rates in the dataset cluster. \n",
    "The mean represents the average interest rate, while the median represents the middle value of the sorted interest rates."
   ]
  },
  {
   "cell_type": "markdown",
   "id": "5621c93e",
   "metadata": {},
   "source": [
    "### Distribution of the interest"
   ]
  },
  {
   "cell_type": "code",
   "execution_count": 39,
   "id": "b187fcc0",
   "metadata": {},
   "outputs": [
    {
     "name": "stdout",
     "output_type": "stream",
     "text": [
      "Skewness of Interest Rate: 0.43079606926987357\n"
     ]
    }
   ],
   "source": [
    "from scipy.stats import skew\n",
    "\n",
    "# Calculate the skewness of interest rate\n",
    "interest_rate_skew = skew(loan_df['int_rate'])\n",
    "\n",
    "print(\"Skewness of Interest Rate:\", interest_rate_skew)"
   ]
  },
  {
   "cell_type": "markdown",
   "id": "15d360e9",
   "metadata": {},
   "source": [
    "The skewness value of 0.431 indicates that the distribution of the interest rate variable is slightly positively skewed. \n",
    "This means that the distribution has a longer tail on the right side and the majority of the interest rate values are \n",
    "concentrated towards the lower end."
   ]
  },
  {
   "cell_type": "code",
   "execution_count": 40,
   "id": "ceb0f79b",
   "metadata": {},
   "outputs": [
    {
     "data": {
      "image/png": "[encoded data removed]",
      "text/plain": [
       "<Figure size 432x288 with 1 Axes>"
      ]
     },
     "metadata": {
      "needs_background": "light"
     },
     "output_type": "display_data"
    }
   ],
   "source": [
    "# Plot the density plot of interest rate\n",
    "sns.kdeplot(loan_df['int_rate'])\n",
    "plt.xlabel('Interest Rate')\n",
    "plt.ylabel('Density')\n",
    "plt.title('Distribution of Interest Rate')\n",
    "plt.show()"
   ]
  },
  {
   "cell_type": "markdown",
   "id": "3321612e",
   "metadata": {},
   "source": [
    "### Bivariate analysis"
   ]
  },
  {
   "cell_type": "markdown",
   "id": "f301550e",
   "metadata": {},
   "source": [
    "#### Correlation map"
   ]
  },
  {
   "cell_type": "markdown",
   "id": "8d2b3526",
   "metadata": {},
   "source": [
    "correlation heatmaps are a useful tool for visualizing the relationships between numerical columns in a our dataset. They provide a quick overview of the linear correlations between variables and can help identify features that are strongly correlated with the target variable."
   ]
  },
  {
   "cell_type": "code",
   "execution_count": 41,
   "id": "e05cbe44",
   "metadata": {},
   "outputs": [
    {
     "data": {
      "image/png": "[encoded data removed]",
      "text/plain": [
       "<Figure size 1080x720 with 2 Axes>"
      ]
     },
     "metadata": {
      "needs_background": "light"
     },
     "output_type": "display_data"
    }
   ],
   "source": [
    "# Compute the correlation matrix\n",
    "corr_matrix = loan_df.corr()\n",
    "\n",
    "# Plot the correlation heatmap\n",
    "plt.figure(figsize=(15, 10))\n",
    "sns.heatmap(corr_matrix, annot=False, cmap='coolwarm')\n",
    "plt.title('Correlation Heatmap')\n",
    "plt.show()\n"
   ]
  },
  {
   "cell_type": "markdown",
   "id": "7af155ff",
   "metadata": {},
   "source": [
    "From the plot above, we can conclude the following:\n",
    "Variables that have correlation with interest rate are: term_in_month, total_rev_hi_lim, total_rec_int, and annual_inc. However, these correlations are not very strong.\n",
    "\n",
    "In our case,  the correlation between numerical variables is not strong when predicting interst rate. In such cases, it's worth exploring the relationships between categorical features and the target variable, i.e. interest rate, as they might contain important predictive information.\n",
    "    "
   ]
  },
  {
   "cell_type": "markdown",
   "id": "597680d8",
   "metadata": {},
   "source": [
    "Now, we will explore the relationship between two variables to uncover any correlations or trends."
   ]
  },
  {
   "cell_type": "markdown",
   "id": "795a1eb1",
   "metadata": {},
   "source": [
    "To investigate the relationship between interest rate and length of employment, we will create a line plot that shows the average interest rate for each length of employment category. \n"
   ]
  },
  {
   "cell_type": "markdown",
   "id": "b19259c3",
   "metadata": {},
   "source": [
    "### Line Plot"
   ]
  },
  {
   "cell_type": "code",
   "execution_count": 42,
   "id": "10e9b884",
   "metadata": {},
   "outputs": [
    {
     "data": {
      "image/png": "[encoded data removed]",
      "text/plain": [
       "<Figure size 432x288 with 1 Axes>"
      ]
     },
     "metadata": {
      "needs_background": "light"
     },
     "output_type": "display_data"
    }
   ],
   "source": [
    "avg_interest_rate = loan_df.groupby('emp_length')['int_rate'].mean()\n",
    "\n",
    "# Create a line plot\n",
    "plt.plot(avg_interest_rate.index, avg_interest_rate.values, marker='o')\n",
    "plt.xlabel('Length of Employment')\n",
    "plt.ylabel('Average Interest Rate')\n",
    "plt.title('Relationship between Interest Rate and Length of Employment')\n",
    "plt.xticks(rotation=45)\n",
    "plt.show()"
   ]
  },
  {
   "cell_type": "markdown",
   "id": "3f126701",
   "metadata": {},
   "source": [
    "This is an insightful observation. The non-linear relationship between interest rate and employment length, with a drop \n",
    "in average interest rate for individuals working 8 to 10 years, could indeed be attributed to the perception of stability \n",
    "and lower risk associated with longer employment tenures. One can assume that lenders may view individuals with a longer job history as more \n",
    "reliable borrowers, resulting in a lower interest rate.\n",
    "\n",
    "Regarding the lower interest rate for individuals who have worked less than four years, it's common for lenders to offer \n",
    "lower interest rates for startup loans or loans for new businesses to support their growth and increase the likelihood \n",
    "of successful repayment. This lower interest rate may incentivize entrepreneurs and small business owners to take out \n",
    "loans to help establish and develop their ventures.\n",
    "\n",
    "This analysis highlights the importance of considering the context and industry-specific factors when interpreting \n",
    "relationships between variables. Understanding the underlying reasons behind observed patterns can provide valuable \n",
    "insights into the dynamics of the lending market and borrower characteristics.\n"
   ]
  },
  {
   "cell_type": "markdown",
   "id": "70bd0ff5",
   "metadata": {},
   "source": [
    "### Violin plot "
   ]
  },
  {
   "cell_type": "markdown",
   "id": "db4ee825",
   "metadata": {},
   "source": [
    "Next we will generate a violin plot to visualize the distribution of interest rates based on homeownership status. \n",
    "The plot also differentiates the distribution by application type. "
   ]
  },
  {
   "cell_type": "code",
   "execution_count": 43,
   "id": "fb3066be",
   "metadata": {},
   "outputs": [
    {
     "data": {
      "image/png": "[encoded data removed]",
      "text/plain": [
       "<Figure size 720x432 with 1 Axes>"
      ]
     },
     "metadata": {
      "needs_background": "light"
     },
     "output_type": "display_data"
    }
   ],
   "source": [
    "#Homeownership and interest rate\n",
    "\n",
    "plt.figure(figsize = (10,6))\n",
    "\n",
    "g = sns.violinplot(x=\"home_ownership\",y=\"int_rate\",data=loan_df,\n",
    "               kind=\"violin\",\n",
    "               split=True,palette=\"hls\",\n",
    "               hue=\"application_type\")\n",
    "g.set_title(\"Homer Ownership - Interest Rate Distribuition\", fontsize=20)\n",
    "g.set_xlabel(\"\", fontsize=15)\n",
    "g.set_ylabel(\"Int_rate\", fontsize=15)\n",
    "\n",
    "plt.show()\n",
    "\n"
   ]
  },
  {
   "cell_type": "code",
   "execution_count": 44,
   "id": "d5ee6015",
   "metadata": {},
   "outputs": [
    {
     "name": "stdout",
     "output_type": "stream",
     "text": [
      "                   count       mean       std    min      25%    50%     75%  \\\n",
      "home_ownership                                                                 \n",
      "ANY                  3.0  14.233333  2.449333  11.67  13.0750  14.48  15.515   \n",
      "MORTGAGE        412331.0  13.019900  4.437919   5.32   9.4900  12.69  15.800   \n",
      "NONE                42.0  15.491905  4.503588   7.62  12.6125  14.82  18.750   \n",
      "OTHER               45.0  15.386000  3.157943   8.90  13.1100  15.31  16.290   \n",
      "OWN              82039.0  13.327503  4.451220   5.32   9.9900  12.99  16.290   \n",
      "RENT            322643.0  13.661431  4.329884   5.32  10.9900  13.33  16.550   \n",
      "\n",
      "                  max  \n",
      "home_ownership         \n",
      "ANY             16.55  \n",
      "MORTGAGE        28.99  \n",
      "NONE            24.89  \n",
      "OTHER           23.63  \n",
      "OWN             28.99  \n",
      "RENT            28.99  \n"
     ]
    }
   ],
   "source": [
    "# Calculate descriptive statistics for interest rates based on homeownership\n",
    "summary_stats = loan_df.groupby('home_ownership')['int_rate'].describe()\n",
    "\n",
    "# Print the summary statistics\n",
    "print(summary_stats)"
   ]
  },
  {
   "cell_type": "markdown",
   "id": "dbc9f33c",
   "metadata": {},
   "source": [
    "The \"MORTGAGE\" category has the highest count of observations (412,331) and a mean interest rate of approximately 13.02%. \n",
    "It also has the highest standard deviation of around 4.44, indicating a wider spread of interest rates within this category.\n",
    "\n",
    "The \"RENT\" category has the second-highest count of observations (322,643) and a slightly higher mean interest rate \n",
    "of around 13.66% compared to the \"MORTGAGE\" category. The standard deviation is also relatively high at approximately 4.33.\n",
    "\n",
    "The \"OWN\" category has a lower count of observations (82,039) compared to \"MORTGAGE\" and \"RENT\" categories. \n",
    "It has a slightly lower mean interest rate of around 13.33% and a similar standard deviation of approximately 4.45.\n",
    "\n",
    "The \"NONE\" and \"OTHER\" categories have smaller counts of observations (42 and 45, respectively) compared to the other \n",
    "categories. They have relatively higher mean interest rates of around 15.49% and 15.39%, respectively. The standard \n",
    "deviations for these categories are also smaller compared to \"MORTGAGE\" and \"RENT\"."
   ]
  },
  {
   "cell_type": "markdown",
   "id": "b376380b",
   "metadata": {},
   "source": [
    "### Box Plot"
   ]
  },
  {
   "cell_type": "markdown",
   "id": "b2744572",
   "metadata": {},
   "source": [
    "Lending club (LC) collects demographic and financial information from prospective borrowers and utilizes this information to assign a grade to each borrower. The LC grade serves as an indication of the borrower's creditworthiness and is a crucial factor for prospective lenders in assessing the risk associated with lending to that borrower.\n",
    "Higher grades indicating lower credit risk and lower grades indicating higher credit risk.\n",
    "\n",
    "Next we will investigate the relationship between grade and interst rate"
   ]
  },
  {
   "cell_type": "code",
   "execution_count": 45,
   "id": "2b6ee060",
   "metadata": {},
   "outputs": [
    {
     "data": {
      "image/png": "[encoded data removed]",
      "text/plain": [
       "<Figure size 720x432 with 1 Axes>"
      ]
     },
     "metadata": {
      "needs_background": "light"
     },
     "output_type": "display_data"
    }
   ],
   "source": [
    "#Create a box plot of interest rate grouped by LC grade\n",
    "plt.figure(figsize=(10, 6))\n",
    "sns.boxplot(x='grade', y='int_rate', data=loan_df, order=sorted(loan_df['grade'].unique()))\n",
    "plt.title('Interest Rate by LC Grade')\n",
    "plt.xlabel('LC Grade')\n",
    "plt.ylabel('Interest Rate')\n",
    "plt.show()"
   ]
  },
  {
   "cell_type": "markdown",
   "id": "d22022c8",
   "metadata": {},
   "source": [
    "The box plot shows that Grade A has the lowest interest rates among all the LC grades, while the interest rates \n",
    "generally increase as you move from Grade B to Grade G. Grade G tends to have the highest interest rates assigned to it.\n",
    "\n",
    "Lending Club assigns lower interest rates to borrowers with higher LC grades (Grade A) as they are considered more \n",
    "creditworthy. As the LC grade decreases, the interest rates increase, indicating a higher perceived risk associated \n",
    "with those borrowers."
   ]
  },
  {
   "cell_type": "markdown",
   "id": "c243988e",
   "metadata": {},
   "source": [
    "### Multivariate analysis"
   ]
  },
  {
   "cell_type": "code",
   "execution_count": 46,
   "id": "120438b3",
   "metadata": {},
   "outputs": [
    {
     "data": {
      "image/png": "[encoded data removed]",
      "text/plain": [
       "<Figure size 720x432 with 1 Axes>"
      ]
     },
     "metadata": {
      "needs_background": "light"
     },
     "output_type": "display_data"
    }
   ],
   "source": [
    "plt.figure(figsize=(10, 6))\n",
    "plt.hist(loan_df['int_rate'], bins=30, edgecolor='black', alpha=0.7, label='All Grades')\n",
    "plt.hist(loan_df.loc[loan_df['grade'] == 'A', 'int_rate'], bins=30, edgecolor='black', alpha=0.7, label='Grade A')\n",
    "plt.hist(loan_df.loc[loan_df['grade'] == 'B', 'int_rate'], bins=30, edgecolor='black', alpha=0.7, label='Grade B')\n",
    "plt.hist(loan_df.loc[loan_df['grade'] == 'C', 'int_rate'], bins=30, edgecolor='black', alpha=0.7, label='Grade C')\n",
    "plt.hist(loan_df.loc[loan_df['grade'] == 'D', 'int_rate'], bins=30, edgecolor='black', alpha=0.7, label='Grade D')\n",
    "plt.hist(loan_df.loc[loan_df['grade'] == 'E', 'int_rate'], bins=30, edgecolor='black', alpha=0.7, label='Grade E')\n",
    "plt.hist(loan_df.loc[loan_df['grade'] == 'F', 'int_rate'], bins=30, edgecolor='black', alpha=0.7, label='Grade F')\n",
    "plt.hist(loan_df.loc[loan_df['grade'] == 'F', 'int_rate'], bins=30, edgecolor='black', alpha=0.7, label='Grade G')\n",
    "plt.xlabel('Interest Rate')\n",
    "plt.ylabel('Frequency')\n",
    "plt.title('Distribution of Interest Rates by Grade')\n",
    "plt.legend()\n",
    "plt.show()\n"
   ]
  },
  {
   "cell_type": "markdown",
   "id": "c5c22d3d",
   "metadata": {},
   "source": [
    "It is clear that interest rate is related to the grade level assigned by Lending Club."
   ]
  },
  {
   "cell_type": "markdown",
   "id": "fa1aa779",
   "metadata": {},
   "source": [
    "Now, that we have determined the relationship between various features and our target value interest rate, We could fit a regression model with the variable \"int_rate\" as the dependent variable and other varialbes as independent variables."
   ]
  },
  {
   "cell_type": "markdown",
   "id": "dbd900dd",
   "metadata": {},
   "source": [
    "Next Step:\n",
    "\n",
    "    1. pre-process and train the data to normalize and standardize all the features in our data\n",
    "    \n",
    "    2. create a validation set\n",
    "    \n",
    "    3. build our model. "
   ]
  },
  {
   "cell_type": "code",
   "execution_count": null,
   "id": "a57ecee6",
   "metadata": {},
   "outputs": [],
   "source": []
  }
 ],
 "metadata": {
  "kernelspec": {
   "display_name": "Python 3 (ipykernel)",
   "language": "python",
   "name": "python3"
  },
  "language_info": {
   "codemirror_mode": {
    "name": "ipython",
    "version": 3
   },
   "file_extension": ".py",
   "mimetype": "text/x-python",
   "name": "python",
   "nbconvert_exporter": "python",
   "pygments_lexer": "ipython3",
   "version": "3.9.12"
  }
 },
 "nbformat": 4,
 "nbformat_minor": 5
}
