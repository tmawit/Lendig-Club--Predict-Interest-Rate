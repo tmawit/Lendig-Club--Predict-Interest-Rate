{
 "cells": [
  {
   "cell_type": "markdown",
   "id": "ee51a8ca",
   "metadata": {},
   "source": [
    "# Lending Club Predict Interest Rates\n"
   ]
  },
  {
   "cell_type": "markdown",
   "id": "faaa70fe",
   "metadata": {},
   "source": [
    "## Preprocessing and Training Data Development"
   ]
  },
  {
   "cell_type": "markdown",
   "id": "f4fd3778",
   "metadata": {},
   "source": [
    "Preprocessing plays a crucial role in preparing data for fitting a regression model. It involves transforming and \n",
    "manipulating the data to ensure it is in a suitable format and meets the requirements of the regression algorithm. \n",
    "We will take the following preprocessing steps for our regression modeling:\n",
    "    \n",
    "1. Feature scaling: Scale numerical features to ensure they are on a similar scale.\n",
    "    Scaling can prevent certain features from dominating the regression model due to their larger magnitude.\n",
    "\n",
    "2. Encoding categorical variables: we will convert categorical variables into a numerical representation that can be \n",
    "    understood by the regression model. We will us one-hot encoding technique to create binary dummy variables.\n",
    "    label encoding (assigning numerical labels), or using entity embeddings for high-cardinality categorical variables.\n",
    "\n",
    "3. Feature selection: we will identify the most relevant features that have a strong relationship with the target variable. \n",
    "  Feature selection techniques, such as correlation analysis, stepwise regression, or regularization methods \n",
    "    like Lasso or Ridge regression, can help in selecting the most informative features and removing irrelevant \n",
    "    or redundant ones.\n",
    "4. Splitting the data: lastly, we will divide the dataset into training and test sets. The training set is used to \n",
    "    train the regression model, while the test set is used to evaluate its performance on unseen data. \n",
    "    This step helps assess the model's generalization ability."
   ]
  },
  {
   "cell_type": "code",
   "execution_count": 1,
   "id": "aa04c585",
   "metadata": {},
   "outputs": [],
   "source": [
    "import pandas as pd\n",
    "import numpy as np\n",
    "\n",
    "import matplotlib.pyplot as plt\n",
    "%matplotlib inline\n",
    "from sklearn.model_selection import train_test_split\n",
    "from sklearn.metrics import mean_absolute_error\n",
    "from sklearn.linear_model import Ridge\n",
    "\n",
    "from sklearn.preprocessing import OneHotEncoder, OrdinalEncoder\n",
    "from sklearn.impute import SimpleImputer\n",
    "\n",
    "\n",
    "import seaborn as sns\n",
    "from sklearn.decomposition import PCA\n",
    "from sklearn.preprocessing import StandardScaler\n",
    "\n",
    "from sklearn.dummy import DummyRegressor\n",
    "\n",
    "\n",
    "from sklearn.model_selection import cross_val_score, validation_curve\n",
    "from sklearn.model_selection import GridSearchCV, RandomizedSearchCV\n",
    "from sklearn.ensemble import RandomForestRegressor\n",
    "from xgboost import XGBRegressor\n",
    "\n",
    "\n",
    "from sklearn import preprocessing\n",
    "import scipy.stats as stats\n",
    "\n",
    "from tabulate import tabulate\n",
    "\n",
    "\n"
   ]
  },
  {
   "cell_type": "code",
   "execution_count": 2,
   "id": "c76fedea",
   "metadata": {},
   "outputs": [],
   "source": [
    "import warnings\n",
    "\n",
    "# Use the warnings module to suppress specific warnings\n",
    "warnings.filterwarnings(\"ignore\")"
   ]
  },
  {
   "cell_type": "code",
   "execution_count": 3,
   "id": "eea20189",
   "metadata": {},
   "outputs": [],
   "source": [
    "#load the data\n",
    "loan_df = pd.read_csv('../lc_loanDf.csv')"
   ]
  },
  {
   "cell_type": "code",
   "execution_count": 4,
   "id": "3663e390",
   "metadata": {},
   "outputs": [
    {
     "data": {
      "text/plain": [
       "(817103, 53)"
      ]
     },
     "execution_count": 4,
     "metadata": {},
     "output_type": "execute_result"
    }
   ],
   "source": [
    "loan_df.shape"
   ]
  },
  {
   "cell_type": "code",
   "execution_count": 5,
   "id": "868837af",
   "metadata": {},
   "outputs": [
    {
     "name": "stdout",
     "output_type": "stream",
     "text": [
      "<class 'pandas.core.frame.DataFrame'>\n",
      "RangeIndex: 817103 entries, 0 to 817102\n",
      "Data columns (total 53 columns):\n",
      " #   Column                       Non-Null Count   Dtype  \n",
      "---  ------                       --------------   -----  \n",
      " 0   id                           817103 non-null  int64  \n",
      " 1   loan_amnt                    817103 non-null  float64\n",
      " 2   funded_amnt                  817103 non-null  float64\n",
      " 3   funded_amnt_inv              817103 non-null  float64\n",
      " 4   term                         817103 non-null  object \n",
      " 5   int_rate                     817103 non-null  float64\n",
      " 6   installment                  817103 non-null  float64\n",
      " 7   grade                        817103 non-null  object \n",
      " 8   sub_grade                    817103 non-null  object \n",
      " 9   emp_title                    817103 non-null  object \n",
      " 10  emp_length                   817103 non-null  int64  \n",
      " 11  home_ownership               817103 non-null  object \n",
      " 12  annual_inc                   817103 non-null  float64\n",
      " 13  verification_status          817103 non-null  object \n",
      " 14  issue_d                      817103 non-null  object \n",
      " 15  loan_status                  817103 non-null  object \n",
      " 16  pymnt_plan                   817103 non-null  object \n",
      " 17  url                          817103 non-null  object \n",
      " 18  purpose                      817103 non-null  object \n",
      " 19  title                        817103 non-null  object \n",
      " 20  zip_code                     817103 non-null  object \n",
      " 21  addr_state                   817103 non-null  object \n",
      " 22  dti                          817103 non-null  float64\n",
      " 23  delinq_2yrs                  817103 non-null  float64\n",
      " 24  earliest_cr_line             817103 non-null  object \n",
      " 25  inq_last_6mths               817103 non-null  float64\n",
      " 26  mths_since_last_delinq       817103 non-null  int64  \n",
      " 27  open_acc                     817103 non-null  float64\n",
      " 28  pub_rec                      817103 non-null  float64\n",
      " 29  revol_bal                    817103 non-null  float64\n",
      " 30  revol_util                   817103 non-null  float64\n",
      " 31  total_acc                    817103 non-null  float64\n",
      " 32  initial_list_status          817103 non-null  object \n",
      " 33  out_prncp                    817103 non-null  float64\n",
      " 34  out_prncp_inv                817103 non-null  float64\n",
      " 35  total_pymnt                  817103 non-null  float64\n",
      " 36  total_pymnt_inv              817103 non-null  float64\n",
      " 37  total_rec_prncp              817103 non-null  float64\n",
      " 38  total_rec_int                817103 non-null  float64\n",
      " 39  total_rec_late_fee           817103 non-null  float64\n",
      " 40  recoveries                   817103 non-null  float64\n",
      " 41  collection_recovery_fee      817103 non-null  float64\n",
      " 42  last_pymnt_d                 817103 non-null  object \n",
      " 43  last_pymnt_amnt              817103 non-null  float64\n",
      " 44  last_credit_pull_d           817103 non-null  object \n",
      " 45  collections_12_mths_ex_med   817103 non-null  float64\n",
      " 46  mths_since_last_major_derog  817103 non-null  float64\n",
      " 47  application_type             817103 non-null  object \n",
      " 48  acc_now_delinq               817103 non-null  float64\n",
      " 49  tot_coll_amt                 817103 non-null  float64\n",
      " 50  tot_cur_bal                  817103 non-null  float64\n",
      " 51  total_rev_hi_lim             817103 non-null  float64\n",
      " 52  term_in_month                817103 non-null  int64  \n",
      "dtypes: float64(30), int64(4), object(19)\n",
      "memory usage: 330.4+ MB\n"
     ]
    }
   ],
   "source": [
    "loan_df.info()"
   ]
  },
  {
   "cell_type": "markdown",
   "id": "7e5ebd28",
   "metadata": {},
   "source": [
    "To determine which columns are relevant for predicting interest rate, we used domain knowledge. \n",
    "Here is the general analysis of the columns and  their potential relevance for predicting interest rates:\n",
    "\n",
    "    'int_rate': This column represents the target variable, the interest rate. It is the variable you want to predict, and therefore, it is directly relevant to the prediction task.\n",
    "\n",
    "    'loan_amnt': The loan amount can potentially have an impact on the interest rate. Higher loan amounts might be associated with higher interest rates due to increased risk. Therefore, 'loan_amnt' can be considered relevant for predicting interest rates.\n",
    "\n",
    "    'annual_inc': Borrower's annual income is an important factor that lenders consider when determining interest rates. Higher incomes may indicate a borrower's ability to handle debt, and lower incomes may result in higher interest rates. Therefore, 'annual_inc' can be relevant for predicting interest rates.\n",
    "\n",
    "    'mths_since_last_delinq': This column represents the number of months since the borrower's last delinquency. Delinquencies may affect creditworthiness, which can impact interest rates. Therefore, 'mths_since_last_delinq' can potentially be relevant in predicting interest rates.\n",
    "\n",
    "    'revol_bal' and 'revol_util': These columns are related to the borrower's revolving credit balance and utilization. Higher revolving balances and higher utilization may indicate a higher risk for lenders, potentially leading to higher interest rates. Thus, 'revol_bal' and 'revol_util' can be relevant features for predicting interest rates.\n",
    "\n",
    "    'tot_coll_amt' and 'tot_cur_bal': These columns represent the total collection amount and the total current balance, respectively. These variables provide information about the borrower's credit history and their current financial situation. Both variables can be relevant for predicting interest rates as they reflect creditworthiness and financial stability.\n",
    "\n",
    "    'total_rev_hi_lim': This column represents the total revolving credit limit. It provides information about the borrower's available credit and potential debt capacity. Higher credit limits might suggest a better credit profile, which can influence interest rates. Thus, 'total_rev_hi_lim' can be relevant in predicting interest rates.\n",
    "\n",
    "    'term_in_month': This column indicates the loan term in months. Loan terms can affect interest rates, as longer terms may carry higher risks and potentially higher interest rates. Therefore, 'term_in_month' can be relevant for predicting interest rates.\n",
    "    'empl length':The length of employment can be an indicator of job stability. Lenders may consider borrowers with longer employment histories as more financially secure and reliable, potentially resulting in lower interest rates. Conversely, borrowers with shorter employment histories may be perceived as higher risk, leading to higher interest rates.\n",
    "\n"
   ]
  },
  {
   "cell_type": "code",
   "execution_count": 6,
   "id": "ccc9abf4",
   "metadata": {},
   "outputs": [],
   "source": [
    "relevant_cols=['int_rate','loan_amnt','annual_inc','mths_since_last_delinq','revol_bal', 'revol_util',\n",
    "               'tot_coll_amt','tot_cur_bal','total_rev_hi_lim','term_in_month', 'emp_length']"
   ]
  },
  {
   "cell_type": "code",
   "execution_count": 7,
   "id": "b9874169",
   "metadata": {},
   "outputs": [],
   "source": [
    "loan_Df=loan_df[relevant_cols]"
   ]
  },
  {
   "cell_type": "code",
   "execution_count": 8,
   "id": "0068ed64",
   "metadata": {},
   "outputs": [
    {
     "data": {
      "text/plain": [
       "(817103, 11)"
      ]
     },
     "execution_count": 8,
     "metadata": {},
     "output_type": "execute_result"
    }
   ],
   "source": [
    "loan_Df.shape"
   ]
  },
  {
   "cell_type": "code",
   "execution_count": 9,
   "id": "e3816d78",
   "metadata": {},
   "outputs": [],
   "source": [
    "# we will randomly sample only 6% of our dataframe to reduce the size of the dataset\n",
    "\n",
    "# randomly sample 6% of the dataframe\n",
    "sampled_df = loan_Df.sample(frac=0.06, random_state=42)  # Set random_state for reproducibility\n"
   ]
  },
  {
   "cell_type": "code",
   "execution_count": 10,
   "id": "4d6943f0",
   "metadata": {},
   "outputs": [
    {
     "data": {
      "text/plain": [
       "(49026, 11)"
      ]
     },
     "execution_count": 10,
     "metadata": {},
     "output_type": "execute_result"
    }
   ],
   "source": [
    "sampled_df.shape"
   ]
  },
  {
   "cell_type": "code",
   "execution_count": 11,
   "id": "245749a2",
   "metadata": {},
   "outputs": [
    {
     "name": "stdout",
     "output_type": "stream",
     "text": [
      "<class 'pandas.core.frame.DataFrame'>\n",
      "Int64Index: 49026 entries, 468868 to 724028\n",
      "Data columns (total 11 columns):\n",
      " #   Column                  Non-Null Count  Dtype  \n",
      "---  ------                  --------------  -----  \n",
      " 0   int_rate                49026 non-null  float64\n",
      " 1   loan_amnt               49026 non-null  float64\n",
      " 2   annual_inc              49026 non-null  float64\n",
      " 3   mths_since_last_delinq  49026 non-null  int64  \n",
      " 4   revol_bal               49026 non-null  float64\n",
      " 5   revol_util              49026 non-null  float64\n",
      " 6   tot_coll_amt            49026 non-null  float64\n",
      " 7   tot_cur_bal             49026 non-null  float64\n",
      " 8   total_rev_hi_lim        49026 non-null  float64\n",
      " 9   term_in_month           49026 non-null  int64  \n",
      " 10  emp_length              49026 non-null  int64  \n",
      "dtypes: float64(8), int64(3)\n",
      "memory usage: 4.5 MB\n"
     ]
    }
   ],
   "source": [
    "sampled_df.info()"
   ]
  },
  {
   "cell_type": "markdown",
   "id": "b0508054",
   "metadata": {},
   "source": [
    "# Split data into training and testing subsets"
   ]
  },
  {
   "cell_type": "code",
   "execution_count": 12,
   "id": "f6d72e0a",
   "metadata": {},
   "outputs": [],
   "source": [
    "#Split data into train and test set\n",
    "\n",
    "# Define the features and target variable\n",
    "X = sampled_df.drop('int_rate', axis=1) # all columns except the target\n",
    "y = sampled_df['int_rate'] # target variable\n",
    "\n",
    "# Split the dataset into training and testing sets\n",
    "X_train, X_test, y_train, y_test = train_test_split(X, y, test_size=0.25, random_state=42)"
   ]
  },
  {
   "cell_type": "markdown",
   "id": "7fa0f05d",
   "metadata": {},
   "source": [
    "# Modeling"
   ]
  },
  {
   "cell_type": "markdown",
   "id": "57e38337",
   "metadata": {},
   "source": [
    "A dummy baseline model is a simple baseline model used in regression tasks to establish a benchmark for performance comparison with more complex models. It provides a basic reference point against which the performance of other models can be evaluated.\n",
    "\n",
    "By using a dummy baseline model that predicts the mean of the target variable, we can compare the performance of more sophisticated regression models against this simple baseline. If our more advanced models cannot outperform the dummy baseline, it indicates that there may be issues with our feature engineering, data quality, or the complexity of the problem itself."
   ]
  },
  {
   "cell_type": "markdown",
   "id": "988784d5",
   "metadata": {},
   "source": [
    "# Dummy Regressor"
   ]
  },
  {
   "cell_type": "code",
   "execution_count": 13,
   "id": "eecae552",
   "metadata": {},
   "outputs": [
    {
     "name": "stdout",
     "output_type": "stream",
     "text": [
      "+--------------------------------------+---------+\n",
      "| Metric                               |   Value |\n",
      "+======================================+=========+\n",
      "| Mean Squared Error (Dummy Baseline)  | 19.5506 |\n",
      "+--------------------------------------+---------+\n",
      "| Mean Absolute Error (Dummy Baseline) |  3.5397 |\n",
      "+--------------------------------------+---------+\n",
      "| R^2 Score (Dummy Baseline)           |  0      |\n",
      "+--------------------------------------+---------+\n"
     ]
    }
   ],
   "source": [
    "# Create and fit the dummy regressor using the mean strategy\n",
    "from sklearn.metrics import mean_squared_error, mean_absolute_error, r2_score\n",
    "\n",
    "dummy_regressor = DummyRegressor(strategy='mean')\n",
    "dummy_regressor.fit(X_train, y_train)\n",
    "\n",
    "# Make predictions using the dummy model\n",
    "y_pred = dummy_regressor.predict(X_train)\n",
    "\n",
    "# Evaluate the performance of the dummy model\n",
    "dummy_mse = mean_squared_error(y_train, y_pred)\n",
    "dummy_mae = mean_absolute_error(y_train, y_pred)\n",
    "dummy_r2 = r2_score(y_train, y_pred)\n",
    "\n",
    "\n",
    "metrics_data = [\n",
    "    [\"Mean Squared Error (Dummy Baseline)\", dummy_mse ],\n",
    "    [\"Mean Absolute Error (Dummy Baseline)\",dummy_mae],\n",
    "    [\"R^2 Score (Dummy Baseline)\", dummy_r2]\n",
    "]\n",
    "\n",
    "table = tabulate(metrics_data, headers=[\"Metric\", \"Value\"], tablefmt=\"grid\")\n",
    "print(table)\n"
   ]
  },
  {
   "cell_type": "markdown",
   "id": "3aaf93a7",
   "metadata": {},
   "source": [
    "# Build Model: \n",
    "## Ridge, Random Forest  and XGBRegressor \n"
   ]
  },
  {
   "cell_type": "code",
   "execution_count": 14,
   "id": "3ae732cc",
   "metadata": {},
   "outputs": [],
   "source": [
    "#create three separate regression models: ridge_model, rf_model, and xgbr_model\n",
    "\n",
    "ridge_model=Ridge(alpha=1.0, random_state=1)\n",
    "\n",
    "rf_model=RandomForestRegressor()\n",
    "\n",
    "xgbr_model=XGBRegressor()"
   ]
  },
  {
   "cell_type": "code",
   "execution_count": 15,
   "id": "0a577dfe",
   "metadata": {},
   "outputs": [
    {
     "data": {
      "text/plain": [
       "XGBRegressor(base_score=None, booster=None, callbacks=None,\n",
       "             colsample_bylevel=None, colsample_bynode=None,\n",
       "             colsample_bytree=None, early_stopping_rounds=None,\n",
       "             enable_categorical=False, eval_metric=None, feature_types=None,\n",
       "             gamma=None, gpu_id=None, grow_policy=None, importance_type=None,\n",
       "             interaction_constraints=None, learning_rate=None, max_bin=None,\n",
       "             max_cat_threshold=None, max_cat_to_onehot=None,\n",
       "             max_delta_step=None, max_depth=None, max_leaves=None,\n",
       "             min_child_weight=None, missing=nan, monotone_constraints=None,\n",
       "             n_estimators=100, n_jobs=None, num_parallel_tree=None,\n",
       "             predictor=None, random_state=None, ...)"
      ]
     },
     "execution_count": 15,
     "metadata": {},
     "output_type": "execute_result"
    }
   ],
   "source": [
    "#fit the three regression models\n",
    "\n",
    "ridge_model.fit(X_train, y_train)\n",
    "\n",
    "rf_model.fit(X_train, y_train)\n",
    "\n",
    "xgbr_model.fit(X_train, y_train)"
   ]
  },
  {
   "cell_type": "code",
   "execution_count": 16,
   "id": "0291c0bd",
   "metadata": {},
   "outputs": [
    {
     "name": "stdout",
     "output_type": "stream",
     "text": [
      "+----------------+---------+---------+----------+\n",
      "| Model          |     MSE |     MAE |      R^2 |\n",
      "+================+=========+=========+==========+\n",
      "| Dummy Baseline | 19.5506 | 3.5397  | 0        |\n",
      "+----------------+---------+---------+----------+\n",
      "| Ridge          | 14.2707 | 3.03048 | 0.26332  |\n",
      "+----------------+---------+---------+----------+\n",
      "| Random Forest  | 12.6979 | 2.83601 | 0.344512 |\n",
      "+----------------+---------+---------+----------+\n",
      "| XGBoost        | 12.2303 | 2.77868 | 0.368651 |\n",
      "+----------------+---------+---------+----------+\n"
     ]
    }
   ],
   "source": [
    "# Predict on the test set\n",
    "ridge_pred = ridge_model.predict(X_test)\n",
    "rf_pred = rf_model.predict(X_test)\n",
    "xgbr_pred = xgbr_model.predict(X_test)\n",
    "\n",
    "# Calculate metrics for each model\n",
    "ridge_mse = mean_squared_error(y_test, ridge_pred)\n",
    "ridge_mae = mean_absolute_error(y_test, ridge_pred)\n",
    "ridge_r2 = r2_score(y_test, ridge_pred)\n",
    "\n",
    "rf_mse = mean_squared_error(y_test, rf_pred)\n",
    "rf_mae = mean_absolute_error(y_test, rf_pred)\n",
    "rf_r2 = r2_score(y_test, rf_pred)\n",
    "\n",
    "xgbr_mse = mean_squared_error(y_test, xgbr_pred)\n",
    "xgbr_mae = mean_absolute_error(y_test, xgbr_pred)\n",
    "xgbr_r2 = r2_score(y_test, xgbr_pred)\n",
    "\n",
    "# Create a table with the model metrics\n",
    "table = [\n",
    "    [\"Model\", \"MSE\", \"MAE\", \"R^2\"],\n",
    "    [\"Dummy Baseline\", dummy_mse, dummy_mae, dummy_r2],\n",
    "    [\"Ridge\", ridge_mse, ridge_mae, ridge_r2],\n",
    "    [\"Random Forest\", rf_mse, rf_mae, rf_r2],\n",
    "    [\"XGBoost\", xgbr_mse, xgbr_mae, xgbr_r2]\n",
    "]\n",
    "\n",
    "# Print the table\n",
    "print(tabulate(table, headers=\"firstrow\", tablefmt=\"grid\"))\n"
   ]
  },
  {
   "cell_type": "markdown",
   "id": "a92b7350",
   "metadata": {},
   "source": [
    "Based on the result above the XGBoost performs better with MSE value of 12.23 and MAE of 2.7. It's R value shows a better fit\n",
    "in comparison to the other models.\n",
    "\n",
    "All three models have performed better than the dummy regressor. But overall, the XGBoost has performed better than all models.\n",
    "\n",
    "There is still lots of room for improvement."
   ]
  },
  {
   "cell_type": "markdown",
   "id": "1793429c",
   "metadata": {},
   "source": [
    "Next, we will perform a hyperparameter search for the RandomForestRegressor model using RandomizedSearchCV."
   ]
  },
  {
   "cell_type": "markdown",
   "id": "cea91255",
   "metadata": {},
   "source": [
    "We will use the following steps to create pipeline:\n",
    "1. OrdinalEncoder: This step is used for encoding categorical variables that have an ordinal relationship. \n",
    "    It assigns unique integer values to different categories. It is often used when the categorical variables have a \n",
    "    meaningful order, such as \"low,\" \"medium,\" and \"high.\"\n",
    "\n",
    "2. SimpleImputer: This step is used to impute missing values in the dataset. It replaces the missing values with a \n",
    "    specified strategy, such as the mean, median, or most frequent value of the column. It helps handle missing data \n",
    "    before feeding it into the model.\n",
    "\n",
    "3. RandomForestRegressor: This step represents the model used in the pipeline. It utilizes the random forest algorithm for \n",
    "    regression tasks. \n",
    "    \n",
    "    Its configuration is: \n",
    "    random_state=42 parameter to ensure reproducibility of results, \n",
    "    n_jobs=1 to limit the number of CPU cores used for training, \n",
    "    max_samples=0.6 to specify that each decision tree in the random forest should use a maximum of 60% of the training samples."
   ]
  },
  {
   "cell_type": "markdown",
   "id": "fcf93f22",
   "metadata": {},
   "source": [
    "# Random Forest Model: RandomizedSearchCV and Cross Validation"
   ]
  },
  {
   "cell_type": "code",
   "execution_count": 17,
   "id": "ad298034",
   "metadata": {},
   "outputs": [],
   "source": [
    "from sklearn.pipeline import make_pipeline\n",
    "\n",
    "# Create the pipeline\n",
    "clf = make_pipeline(\n",
    "    OrdinalEncoder(),\n",
    "    SimpleImputer(),\n",
    "    RandomForestRegressor(random_state=42, n_jobs=1, max_samples=0.6)\n",
    ")\n"
   ]
  },
  {
   "cell_type": "code",
   "execution_count": 18,
   "id": "e2b98580",
   "metadata": {},
   "outputs": [],
   "source": [
    "parm_Grid = {\n",
    "    'simpleimputer__strategy': ['median', 'mean'],\n",
    "    'randomforestregressor__max_depth': range(5, 60, 5),\n",
    "    'randomforestregressor__n_estimators': range(25, 200, 25)\n",
    "}\n"
   ]
  },
  {
   "cell_type": "code",
   "execution_count": 19,
   "id": "d713255f",
   "metadata": {},
   "outputs": [],
   "source": [
    "from sklearn.model_selection import RandomizedSearchCV\n",
    "\n",
    "models_rfrs = RandomizedSearchCV(\n",
    "    clf,\n",
    "    param_distributions=parm_Grid,\n",
    "    n_iter=15,\n",
    "    cv=5,\n",
    "    n_jobs=-1,\n",
    "    random_state=42,\n",
    "    verbose=1\n",
    ")\n"
   ]
  },
  {
   "cell_type": "code",
   "execution_count": 20,
   "id": "283c0765",
   "metadata": {},
   "outputs": [
    {
     "name": "stdout",
     "output_type": "stream",
     "text": [
      "Fitting 5 folds for each of 15 candidates, totalling 75 fits\n"
     ]
    },
    {
     "data": {
      "text/plain": [
       "RandomizedSearchCV(cv=5,\n",
       "                   estimator=Pipeline(steps=[('ordinalencoder',\n",
       "                                              OrdinalEncoder()),\n",
       "                                             ('simpleimputer', SimpleImputer()),\n",
       "                                             ('randomforestregressor',\n",
       "                                              RandomForestRegressor(max_samples=0.6,\n",
       "                                                                    n_jobs=1,\n",
       "                                                                    random_state=42))]),\n",
       "                   n_iter=15, n_jobs=-1,\n",
       "                   param_distributions={'randomforestregressor__max_depth': range(5, 60, 5),\n",
       "                                        'randomforestregressor__n_estimators': range(25, 200, 25),\n",
       "                                        'simpleimputer__strategy': ['median',\n",
       "                                                                    'mean']},\n",
       "                   random_state=42, verbose=1)"
      ]
     },
     "execution_count": 20,
     "metadata": {},
     "output_type": "execute_result"
    }
   ],
   "source": [
    "# Fit the RandomizedSearchCV object on the training data:\n",
    "models_rfrs.fit(X_train,y_train)"
   ]
  },
  {
   "cell_type": "markdown",
   "id": "a62047ec",
   "metadata": {},
   "source": [
    "Access the best parameters found during the search. Best_params will contain the best set of hyperparameters found by the randomized search. We can use these parameters to instantiate a new RandomForestRegressor model with the optimized configuration."
   ]
  },
  {
   "cell_type": "code",
   "execution_count": 21,
   "id": "b58f458e",
   "metadata": {},
   "outputs": [
    {
     "name": "stdout",
     "output_type": "stream",
     "text": [
      "Best Hyper Parameters for Random Forest: {'simpleimputer__strategy': 'mean', 'randomforestregressor__n_estimators': 25, 'randomforestregressor__max_depth': 10}\n"
     ]
    }
   ],
   "source": [
    "best_params = models_rfrs.best_params_\n",
    "print(\"Best Hyper Parameters for Random Forest:\", best_params)"
   ]
  },
  {
   "cell_type": "markdown",
   "id": "ab4bbead",
   "metadata": {},
   "source": [
    "# XGBRegressor model : RandomizedSearchCV and Cross Validation"
   ]
  },
  {
   "cell_type": "code",
   "execution_count": 22,
   "id": "4f1f4840",
   "metadata": {},
   "outputs": [],
   "source": [
    "# Create the pipeline\n",
    "clf_1 = make_pipeline(\n",
    "    OrdinalEncoder(),\n",
    "    SimpleImputer(),\n",
    "    XGBRegressor(random_state=42, n_jobs=1, max_samples=0.6)\n",
    ")\n",
    "parm_Grid = {\n",
    "    'simpleimputer__strategy': ['median', 'mean'],\n",
    "    'xgbregressor__max_depth': range(5, 60, 5),\n",
    "    'xgbregressor__n_estimators': range(25, 200, 25)\n",
    "}\n",
    "model_xgbrs = RandomizedSearchCV(\n",
    "    clf_1,\n",
    "    param_distributions=parm_Grid,\n",
    "    n_iter=15,\n",
    "    cv=5,\n",
    "    n_jobs=-1,\n",
    "    random_state=42,\n",
    "    verbose=2\n",
    ")"
   ]
  },
  {
   "cell_type": "code",
   "execution_count": 23,
   "id": "d1e70bba",
   "metadata": {},
   "outputs": [
    {
     "name": "stdout",
     "output_type": "stream",
     "text": [
      "Fitting 5 folds for each of 15 candidates, totalling 75 fits\n",
      "[05:36:01] WARNING: C:\\buildkite-agent\\builds\\buildkite-windows-cpu-autoscaling-group-i-0fdc6d574b9c0d168-1\\xgboost\\xgboost-ci-windows\\src\\learner.cc:767: \n",
      "Parameters: { \"max_samples\" } are not used.\n",
      "\n"
     ]
    },
    {
     "data": {
      "text/plain": [
       "RandomizedSearchCV(cv=5,\n",
       "                   estimator=Pipeline(steps=[('ordinalencoder',\n",
       "                                              OrdinalEncoder()),\n",
       "                                             ('simpleimputer', SimpleImputer()),\n",
       "                                             ('xgbregressor',\n",
       "                                              XGBRegressor(base_score=None,\n",
       "                                                           booster=None,\n",
       "                                                           callbacks=None,\n",
       "                                                           colsample_bylevel=None,\n",
       "                                                           colsample_bynode=None,\n",
       "                                                           colsample_bytree=None,\n",
       "                                                           early_stopping_rounds=None,\n",
       "                                                           enable_categorical=False,\n",
       "                                                           eval_metric=None,\n",
       "                                                           feature_types=None,\n",
       "                                                           ga...\n",
       "                                                           max_leaves=None,\n",
       "                                                           max_samples=0.6,\n",
       "                                                           min_child_weight=None,\n",
       "                                                           missing=nan,\n",
       "                                                           monotone_constraints=None,\n",
       "                                                           n_estimators=100,\n",
       "                                                           n_jobs=1,\n",
       "                                                           num_parallel_tree=None,\n",
       "                                                           predictor=None, ...))]),\n",
       "                   n_iter=15, n_jobs=-1,\n",
       "                   param_distributions={'simpleimputer__strategy': ['median',\n",
       "                                                                    'mean'],\n",
       "                                        'xgbregressor__max_depth': range(5, 60, 5),\n",
       "                                        'xgbregressor__n_estimators': range(25, 200, 25)},\n",
       "                   random_state=42, verbose=2)"
      ]
     },
     "execution_count": 23,
     "metadata": {},
     "output_type": "execute_result"
    }
   ],
   "source": [
    "model_xgbrs.fit(X_train,y_train)"
   ]
  },
  {
   "cell_type": "code",
   "execution_count": 24,
   "id": "84fee9db",
   "metadata": {},
   "outputs": [
    {
     "name": "stdout",
     "output_type": "stream",
     "text": [
      "Best Hyper Parameters for XGBoost: {'xgbregressor__n_estimators': 50, 'xgbregressor__max_depth': 15, 'simpleimputer__strategy': 'median'}\n"
     ]
    }
   ],
   "source": [
    "#the the best hyper parameters for XGBRegressor model\n",
    "best_params = model_xgbrs.best_params_\n",
    "print(\"Best Hyper Parameters for XGBoost:\", best_params)"
   ]
  },
  {
   "cell_type": "markdown",
   "id": "cbaa4569",
   "metadata": {},
   "source": [
    "# Finalize model"
   ]
  },
  {
   "cell_type": "code",
   "execution_count": 25,
   "id": "eb6b9953",
   "metadata": {},
   "outputs": [],
   "source": [
    "#final rf model with new parameters\n",
    "#Best Parameters: {'simpleimputer__strategy': 'mean', 'randomforestregressor__n_estimators': 25, \n",
    "#'randomforestregressor__max_depth': 10}\n",
    "\n",
    "model_rf_final = make_pipeline(\n",
    "    SimpleImputer(strategy='mean'),\n",
    "    RandomForestRegressor(random_state=42, n_jobs=1, max_samples=0.6, max_depth=10, n_estimators=25)\n",
    ")\n"
   ]
  },
  {
   "cell_type": "code",
   "execution_count": 26,
   "id": "38e62a66",
   "metadata": {},
   "outputs": [],
   "source": [
    "#final xgbr model with new parameters\n",
    "#Best Parameters: {'xgbregressor__n_estimators': 50, 'xgbregressor__max_depth': 15, 'simpleimputer__strategy': 'median'}\n",
    "\n",
    "model_xgbr_final=make_pipeline(    \n",
    "    SimpleImputer(strategy='median'),\n",
    "    XGBRegressor(random_state=42, n_jobs=1, max_samples=0.6,max_depth=15, n_estimators=50 ))"
   ]
  },
  {
   "cell_type": "code",
   "execution_count": 27,
   "id": "b13046e8",
   "metadata": {},
   "outputs": [
    {
     "data": {
      "text/plain": [
       "Pipeline(steps=[('simpleimputer', SimpleImputer()),\n",
       "                ('randomforestregressor',\n",
       "                 RandomForestRegressor(max_depth=10, max_samples=0.6,\n",
       "                                       n_estimators=25, n_jobs=1,\n",
       "                                       random_state=42))])"
      ]
     },
     "execution_count": 27,
     "metadata": {},
     "output_type": "execute_result"
    }
   ],
   "source": [
    "#Fit the final models\n",
    "model_rf_final.fit(X_train, y_train)\n",
    "\n"
   ]
  },
  {
   "cell_type": "code",
   "execution_count": 28,
   "id": "92dcc76a",
   "metadata": {},
   "outputs": [
    {
     "name": "stdout",
     "output_type": "stream",
     "text": [
      "[05:36:13] WARNING: C:\\buildkite-agent\\builds\\buildkite-windows-cpu-autoscaling-group-i-0fdc6d574b9c0d168-1\\xgboost\\xgboost-ci-windows\\src\\learner.cc:767: \n",
      "Parameters: { \"max_samples\" } are not used.\n",
      "\n"
     ]
    },
    {
     "data": {
      "text/plain": [
       "Pipeline(steps=[('simpleimputer', SimpleImputer(strategy='median')),\n",
       "                ('xgbregressor',\n",
       "                 XGBRegressor(base_score=None, booster=None, callbacks=None,\n",
       "                              colsample_bylevel=None, colsample_bynode=None,\n",
       "                              colsample_bytree=None, early_stopping_rounds=None,\n",
       "                              enable_categorical=False, eval_metric=None,\n",
       "                              feature_types=None, gamma=None, gpu_id=None,\n",
       "                              grow_policy=None, importance_type=None,\n",
       "                              interaction_constraints=None, learning_rate=None,\n",
       "                              max_bin=None, max_cat_threshold=None,\n",
       "                              max_cat_to_onehot=None, max_delta_step=None,\n",
       "                              max_depth=15, max_leaves=None, max_samples=0.6,\n",
       "                              min_child_weight=None, missing=nan,\n",
       "                              monotone_constraints=None, n_estimators=50,\n",
       "                              n_jobs=1, num_parallel_tree=None, predictor=None, ...))])"
      ]
     },
     "execution_count": 28,
     "metadata": {},
     "output_type": "execute_result"
    }
   ],
   "source": [
    "model_xgbr_final.fit(X_train, y_train)"
   ]
  },
  {
   "cell_type": "code",
   "execution_count": 29,
   "id": "e1c148c3",
   "metadata": {},
   "outputs": [
    {
     "name": "stdout",
     "output_type": "stream",
     "text": [
      "+--------------------------+----------------+------------+----------------+------------+--------------+\n",
      "| Model                    |   Training MAE |   Test MAE |   Training MSE |   Test MSE |     R2 Score |\n",
      "+==========================+================+============+================+============+==============+\n",
      "| Dummy Baseline           |       3.5397   |    3.52519 |       19.5506  |    19.3719 | -9.95624e-06 |\n",
      "+--------------------------+----------------+------------+----------------+------------+--------------+\n",
      "| Ridge                    |       3.04803  |    3.03048 |       14.5239  |    14.2707 |  0.26332     |\n",
      "+--------------------------+----------------+------------+----------------+------------+--------------+\n",
      "| Random Forest Regression |       2.58382  |    2.81333 |       10.465   |    12.4642 |  0.356577    |\n",
      "+--------------------------+----------------+------------+----------------+------------+--------------+\n",
      "| XGBoost                  |       0.582531 |    2.96478 |        0.78251 |    14.0727 |  0.273543    |\n",
      "+--------------------------+----------------+------------+----------------+------------+--------------+\n"
     ]
    }
   ],
   "source": [
    "from tabulate import tabulate\n",
    "\n",
    "models = [\n",
    "    (\"Dummy Baseline\", dummy_regressor),\n",
    "    (\"Ridge\", ridge_model),\n",
    "    (\"Random Forest Regression\", model_rf_final),\n",
    "    (\"XGBoost\", model_xgbr_final)\n",
    "]\n",
    "\n",
    "results = []\n",
    "headers = [\"Model\", \"Training MAE\", \"Test MAE\", \"Training MSE\", \"Test MSE\", \"R2 Score\"]\n",
    "\n",
    "for model_name, model in models:\n",
    "    training_mae = mean_absolute_error(y_train, model.predict(X_train))\n",
    "    test_mae = mean_absolute_error(y_test, model.predict(X_test))\n",
    "    training_mse = mean_squared_error(y_train, model.predict(X_train))\n",
    "    test_mse = mean_squared_error(y_test, model.predict(X_test))\n",
    "    r2_score = model.score(X_test, y_test)\n",
    "   \n",
    "    results.append([model_name, training_mae, test_mae, training_mse, test_mse, r2_score])\n",
    "\n",
    "table = tabulate(results, headers=headers, tablefmt=\"grid\")\n",
    "print(table)\n"
   ]
  },
  {
   "cell_type": "markdown",
   "id": "e0c7cf5b",
   "metadata": {},
   "source": [
    "Based on the results provided, the XGBoost model has the lowest training MAE (0.582531) and the lowest training MSE (0.78251), indicating that it performs better in terms of capturing the training data's error. However, it has a higher test MAE (2.96478) and test MSE (14.0727) compared to the other models, suggesting that it may be overfitting the training data.\n",
    "\n",
    "On the other hand, the Random Forest Regression model has relatively balanced performance between training and test sets, with lower test MAE (2.81333) and test MSE (12.4642) compared to the XGBoost model. It also has a higher R2 score (0.356577) compared to the other models, indicating better overall performance in capturing the variance in the target variable.\n",
    "\n",
    "Therefore, based on the provided metrics, the Random Forest Regression model is considered a better model among the three options. "
   ]
  },
  {
   "cell_type": "markdown",
   "id": "2ba9432d",
   "metadata": {},
   "source": [
    "# Feature Importance"
   ]
  },
  {
   "cell_type": "markdown",
   "id": "1720fc3c",
   "metadata": {},
   "source": [
    "## Feature Importance: RandomForestRegressor model"
   ]
  },
  {
   "cell_type": "code",
   "execution_count": 30,
   "id": "fec279af",
   "metadata": {},
   "outputs": [
    {
     "data": {
      "image/png": "[encoded data removed]",
      "text/plain": [
       "<Figure size 720x432 with 1 Axes>"
      ]
     },
     "metadata": {
      "needs_background": "light"
     },
     "output_type": "display_data"
    }
   ],
   "source": [
    "# Get feature importances\n",
    "importances = model_rf_final.named_steps['randomforestregressor'].feature_importances_\n",
    "\n",
    "# Get feature names\n",
    "feature_names = X_train.columns\n",
    "\n",
    "# Sort indices based on feature importance\n",
    "indices = np.argsort(importances)[::-1]\n",
    "\n",
    "# Plot the bar chart\n",
    "plt.figure(figsize=(10, 6))\n",
    "plt.bar(range(len(importances)), importances[indices])\n",
    "plt.xticks(range(len(importances)), feature_names[indices], rotation='vertical')\n",
    "plt.xlabel('Feature')\n",
    "plt.ylabel('Importance')\n",
    "plt.title('Feature Importance - Random Forest Regressor')\n",
    "plt.tight_layout()\n",
    "plt.show()"
   ]
  },
  {
   "cell_type": "markdown",
   "id": "34380a95",
   "metadata": {},
   "source": [
    "## Feature Importance: XgbRegressor model\n",
    "\n",
    "Next, we will visualize the feature importance using a graph for the XGBRegressor model "
   ]
  },
  {
   "cell_type": "code",
   "execution_count": 31,
   "id": "b13c6063",
   "metadata": {},
   "outputs": [
    {
     "data": {
      "image/png": "[encoded data removed]",
      "text/plain": [
       "<Figure size 720x432 with 1 Axes>"
      ]
     },
     "metadata": {
      "needs_background": "light"
     },
     "output_type": "display_data"
    }
   ],
   "source": [
    "# Get feature importances\n",
    "importances = model_xgbr_final.named_steps['xgbregressor'].feature_importances_\n",
    "\n",
    "# Get feature names\n",
    "feature_names = X_train.columns\n",
    "\n",
    "# Sort indices based on feature importance\n",
    "indices = np.argsort(importances)[::-1]\n",
    "\n",
    "# Plot the bar chart\n",
    "plt.figure(figsize=(10, 6))\n",
    "plt.bar(range(len(importances)), importances[indices])\n",
    "plt.xticks(range(len(importances)), feature_names[indices], rotation='vertical')\n",
    "plt.xlabel('Feature')\n",
    "plt.ylabel('Importance')\n",
    "plt.title('Feature Importance - XGBRegressor')\n",
    "plt.tight_layout()\n",
    "plt.show()"
   ]
  },
  {
   "cell_type": "markdown",
   "id": "43f4ece6",
   "metadata": {},
   "source": [
    "# Create a model metrics file"
   ]
  },
  {
   "cell_type": "code",
   "execution_count": 37,
   "id": "218ebee3",
   "metadata": {},
   "outputs": [],
   "source": [
    "models = [\n",
    "    (\"Dummy Baseline\", dummy_regressor,{}),\n",
    "    (\"Ridge\", ridge_model, {'alpha': ridge_model.alpha}),\n",
    "    (\"Random Forest Regression\", model_rf_final, {'max_depth': model_rf_final['randomforestregressor'].max_depth, 'n_estimators': model_rf_final['randomforestregressor'].n_estimators}),\n",
    "    (\"XGBoost\", model_xgbr_final, {'max_depth': model_xgbr_final['xgbregressor'].max_depth, 'n_estimators': model_xgbr_final['xgbregressor'].n_estimators})\n",
    "]\n",
    "\n",
    "metrics = []\n",
    "for model_name, model, hyperparameters in models:\n",
    "    training_mae = mean_absolute_error(y_train, model.predict(X_train))\n",
    "    test_mae = mean_absolute_error(y_test, model.predict(X_test))\n",
    "    training_mse = mean_squared_error(y_train, model.predict(X_train))\n",
    "    test_mse = mean_squared_error(y_test, model.predict(X_test))\n",
    "    r2_score = model.score(X_test, y_test)\n",
    "    features = list(X_train.columns)\n",
    "    parameters = model.get_params()\n",
    "    metrics.append((model_name, features, parameters, hyperparameters, training_mae, test_mae, training_mse, test_mse, r2_score))\n",
    "\n",
    "metrics_df = pd.DataFrame(metrics, columns=['Model', 'Features', 'Parameters', 'Hyperparameters', 'Training MAE', 'Test MAE', 'Training MSE', 'Test MSE', 'R2 Score'])\n",
    "metrics_df.to_csv('model_metrics.csv', index=False)\n",
    "\n",
    "\n"
   ]
  },
  {
   "cell_type": "code",
   "execution_count": null,
   "id": "b59ce5ff",
   "metadata": {},
   "outputs": [],
   "source": []
  }
 ],
 "metadata": {
  "kernelspec": {
   "display_name": "Python 3 (ipykernel)",
   "language": "python",
   "name": "python3"
  },
  "language_info": {
   "codemirror_mode": {
    "name": "ipython",
    "version": 3
   },
   "file_extension": ".py",
   "mimetype": "text/x-python",
   "name": "python",
   "nbconvert_exporter": "python",
   "pygments_lexer": "ipython3",
   "version": "3.9.12"
  }
 },
 "nbformat": 4,
 "nbformat_minor": 5
}
